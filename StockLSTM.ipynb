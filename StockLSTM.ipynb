{
  "nbformat": 4,
  "nbformat_minor": 0,
  "metadata": {
    "kernelspec": {
      "display_name": "Python 3",
      "language": "python",
      "name": "python3"
    },
    "language_info": {
      "codemirror_mode": {
        "name": "ipython",
        "version": 3
      },
      "file_extension": ".py",
      "mimetype": "text/x-python",
      "name": "python",
      "nbconvert_exporter": "python",
      "pygments_lexer": "ipython3",
      "version": "3.8.3"
    },
    "colab": {
      "name": "StockLSTM.ipynb",
      "provenance": [],
      "collapsed_sections": [],
      "include_colab_link": true
    }
  },
  "cells": [
    {
      "cell_type": "markdown",
      "metadata": {
        "id": "view-in-github",
        "colab_type": "text"
      },
      "source": [
        "<a href=\"https://colab.research.google.com/github/harsh2k1/LGMVIP-DataScience/blob/main/StockLSTM.ipynb\" target=\"_parent\"><img src=\"https://colab.research.google.com/assets/colab-badge.svg\" alt=\"Open In Colab\"/></a>"
      ]
    },
    {
      "cell_type": "markdown",
      "metadata": {
        "id": "Gl5dhMg_bUxb"
      },
      "source": [
        "## Name: Harshpreet Singh\n",
        "## ʟɢᴍᴠɪᴩᴏᴄᴛᴏʙᴇʀ\n",
        "## Task-2"
      ]
    },
    {
      "cell_type": "markdown",
      "metadata": {
        "id": "SYyjb7brLPua"
      },
      "source": [
        "### Stock Market Prediction And Forecasting Using Stacked LSTM"
      ]
    },
    {
      "cell_type": "code",
      "metadata": {
        "id": "YDrEcXEOLPuf"
      },
      "source": [
        "import pandas as pd\n",
        "import numpy as np\n",
        "import warnings\n",
        "warnings.filterwarnings('ignore')\n",
        "import matplotlib.pyplot as plt\n",
        "import seaborn as sns"
      ],
      "execution_count": 1,
      "outputs": []
    },
    {
      "cell_type": "code",
      "metadata": {
        "id": "Gx8h8qo3LPuh"
      },
      "source": [
        "path = 'https://raw.githubusercontent.com/mwitiderrick/stockprice/master/NSE-TATAGLOBAL.csv'\n",
        "df=pd.read_csv(path)"
      ],
      "execution_count": 2,
      "outputs": []
    },
    {
      "cell_type": "code",
      "metadata": {
        "colab": {
          "base_uri": "https://localhost:8080/",
          "height": 206
        },
        "id": "hW4HOu5nLPui",
        "outputId": "119b3bd8-5007-49dd-c6ee-85eec98127db"
      },
      "source": [
        "df.head()"
      ],
      "execution_count": 3,
      "outputs": [
        {
          "output_type": "execute_result",
          "data": {
            "text/html": [
              "<div>\n",
              "<style scoped>\n",
              "    .dataframe tbody tr th:only-of-type {\n",
              "        vertical-align: middle;\n",
              "    }\n",
              "\n",
              "    .dataframe tbody tr th {\n",
              "        vertical-align: top;\n",
              "    }\n",
              "\n",
              "    .dataframe thead th {\n",
              "        text-align: right;\n",
              "    }\n",
              "</style>\n",
              "<table border=\"1\" class=\"dataframe\">\n",
              "  <thead>\n",
              "    <tr style=\"text-align: right;\">\n",
              "      <th></th>\n",
              "      <th>Date</th>\n",
              "      <th>Open</th>\n",
              "      <th>High</th>\n",
              "      <th>Low</th>\n",
              "      <th>Last</th>\n",
              "      <th>Close</th>\n",
              "      <th>Total Trade Quantity</th>\n",
              "      <th>Turnover (Lacs)</th>\n",
              "    </tr>\n",
              "  </thead>\n",
              "  <tbody>\n",
              "    <tr>\n",
              "      <th>0</th>\n",
              "      <td>2018-09-28</td>\n",
              "      <td>234.05</td>\n",
              "      <td>235.95</td>\n",
              "      <td>230.20</td>\n",
              "      <td>233.50</td>\n",
              "      <td>233.75</td>\n",
              "      <td>3069914</td>\n",
              "      <td>7162.35</td>\n",
              "    </tr>\n",
              "    <tr>\n",
              "      <th>1</th>\n",
              "      <td>2018-09-27</td>\n",
              "      <td>234.55</td>\n",
              "      <td>236.80</td>\n",
              "      <td>231.10</td>\n",
              "      <td>233.80</td>\n",
              "      <td>233.25</td>\n",
              "      <td>5082859</td>\n",
              "      <td>11859.95</td>\n",
              "    </tr>\n",
              "    <tr>\n",
              "      <th>2</th>\n",
              "      <td>2018-09-26</td>\n",
              "      <td>240.00</td>\n",
              "      <td>240.00</td>\n",
              "      <td>232.50</td>\n",
              "      <td>235.00</td>\n",
              "      <td>234.25</td>\n",
              "      <td>2240909</td>\n",
              "      <td>5248.60</td>\n",
              "    </tr>\n",
              "    <tr>\n",
              "      <th>3</th>\n",
              "      <td>2018-09-25</td>\n",
              "      <td>233.30</td>\n",
              "      <td>236.75</td>\n",
              "      <td>232.00</td>\n",
              "      <td>236.25</td>\n",
              "      <td>236.10</td>\n",
              "      <td>2349368</td>\n",
              "      <td>5503.90</td>\n",
              "    </tr>\n",
              "    <tr>\n",
              "      <th>4</th>\n",
              "      <td>2018-09-24</td>\n",
              "      <td>233.55</td>\n",
              "      <td>239.20</td>\n",
              "      <td>230.75</td>\n",
              "      <td>234.00</td>\n",
              "      <td>233.30</td>\n",
              "      <td>3423509</td>\n",
              "      <td>7999.55</td>\n",
              "    </tr>\n",
              "  </tbody>\n",
              "</table>\n",
              "</div>"
            ],
            "text/plain": [
              "         Date    Open    High  ...   Close  Total Trade Quantity  Turnover (Lacs)\n",
              "0  2018-09-28  234.05  235.95  ...  233.75               3069914          7162.35\n",
              "1  2018-09-27  234.55  236.80  ...  233.25               5082859         11859.95\n",
              "2  2018-09-26  240.00  240.00  ...  234.25               2240909          5248.60\n",
              "3  2018-09-25  233.30  236.75  ...  236.10               2349368          5503.90\n",
              "4  2018-09-24  233.55  239.20  ...  233.30               3423509          7999.55\n",
              "\n",
              "[5 rows x 8 columns]"
            ]
          },
          "metadata": {},
          "execution_count": 3
        }
      ]
    },
    {
      "cell_type": "code",
      "metadata": {
        "colab": {
          "base_uri": "https://localhost:8080/",
          "height": 206
        },
        "id": "9NUZZE_VLPuk",
        "outputId": "0645fd16-cc02-4d8e-bd75-6a3f17b846d6"
      },
      "source": [
        "df.tail()"
      ],
      "execution_count": 4,
      "outputs": [
        {
          "output_type": "execute_result",
          "data": {
            "text/html": [
              "<div>\n",
              "<style scoped>\n",
              "    .dataframe tbody tr th:only-of-type {\n",
              "        vertical-align: middle;\n",
              "    }\n",
              "\n",
              "    .dataframe tbody tr th {\n",
              "        vertical-align: top;\n",
              "    }\n",
              "\n",
              "    .dataframe thead th {\n",
              "        text-align: right;\n",
              "    }\n",
              "</style>\n",
              "<table border=\"1\" class=\"dataframe\">\n",
              "  <thead>\n",
              "    <tr style=\"text-align: right;\">\n",
              "      <th></th>\n",
              "      <th>Date</th>\n",
              "      <th>Open</th>\n",
              "      <th>High</th>\n",
              "      <th>Low</th>\n",
              "      <th>Last</th>\n",
              "      <th>Close</th>\n",
              "      <th>Total Trade Quantity</th>\n",
              "      <th>Turnover (Lacs)</th>\n",
              "    </tr>\n",
              "  </thead>\n",
              "  <tbody>\n",
              "    <tr>\n",
              "      <th>2030</th>\n",
              "      <td>2010-07-27</td>\n",
              "      <td>117.6</td>\n",
              "      <td>119.50</td>\n",
              "      <td>112.00</td>\n",
              "      <td>118.80</td>\n",
              "      <td>118.65</td>\n",
              "      <td>586100</td>\n",
              "      <td>694.98</td>\n",
              "    </tr>\n",
              "    <tr>\n",
              "      <th>2031</th>\n",
              "      <td>2010-07-26</td>\n",
              "      <td>120.1</td>\n",
              "      <td>121.00</td>\n",
              "      <td>117.10</td>\n",
              "      <td>117.10</td>\n",
              "      <td>117.60</td>\n",
              "      <td>658440</td>\n",
              "      <td>780.01</td>\n",
              "    </tr>\n",
              "    <tr>\n",
              "      <th>2032</th>\n",
              "      <td>2010-07-23</td>\n",
              "      <td>121.8</td>\n",
              "      <td>121.95</td>\n",
              "      <td>120.25</td>\n",
              "      <td>120.35</td>\n",
              "      <td>120.65</td>\n",
              "      <td>281312</td>\n",
              "      <td>340.31</td>\n",
              "    </tr>\n",
              "    <tr>\n",
              "      <th>2033</th>\n",
              "      <td>2010-07-22</td>\n",
              "      <td>120.3</td>\n",
              "      <td>122.00</td>\n",
              "      <td>120.25</td>\n",
              "      <td>120.75</td>\n",
              "      <td>120.90</td>\n",
              "      <td>293312</td>\n",
              "      <td>355.17</td>\n",
              "    </tr>\n",
              "    <tr>\n",
              "      <th>2034</th>\n",
              "      <td>2010-07-21</td>\n",
              "      <td>122.1</td>\n",
              "      <td>123.00</td>\n",
              "      <td>121.05</td>\n",
              "      <td>121.10</td>\n",
              "      <td>121.55</td>\n",
              "      <td>658666</td>\n",
              "      <td>803.56</td>\n",
              "    </tr>\n",
              "  </tbody>\n",
              "</table>\n",
              "</div>"
            ],
            "text/plain": [
              "            Date   Open    High  ...   Close  Total Trade Quantity  Turnover (Lacs)\n",
              "2030  2010-07-27  117.6  119.50  ...  118.65                586100           694.98\n",
              "2031  2010-07-26  120.1  121.00  ...  117.60                658440           780.01\n",
              "2032  2010-07-23  121.8  121.95  ...  120.65                281312           340.31\n",
              "2033  2010-07-22  120.3  122.00  ...  120.90                293312           355.17\n",
              "2034  2010-07-21  122.1  123.00  ...  121.55                658666           803.56\n",
              "\n",
              "[5 rows x 8 columns]"
            ]
          },
          "metadata": {},
          "execution_count": 4
        }
      ]
    },
    {
      "cell_type": "code",
      "metadata": {
        "colab": {
          "base_uri": "https://localhost:8080/"
        },
        "id": "CTqhmpVlLZcU",
        "outputId": "a9474531-fcc3-478c-9994-09f79dc21cb9"
      },
      "source": [
        "df.isnull().sum()"
      ],
      "execution_count": 5,
      "outputs": [
        {
          "output_type": "execute_result",
          "data": {
            "text/plain": [
              "Date                    0\n",
              "Open                    0\n",
              "High                    0\n",
              "Low                     0\n",
              "Last                    0\n",
              "Close                   0\n",
              "Total Trade Quantity    0\n",
              "Turnover (Lacs)         0\n",
              "dtype: int64"
            ]
          },
          "metadata": {},
          "execution_count": 5
        }
      ]
    },
    {
      "cell_type": "code",
      "metadata": {
        "colab": {
          "base_uri": "https://localhost:8080/"
        },
        "id": "Q1C24DpJLZSU",
        "outputId": "4e9abfbc-64ff-4304-eb6d-cd8e562a69ae"
      },
      "source": [
        "df.dtypes"
      ],
      "execution_count": 6,
      "outputs": [
        {
          "output_type": "execute_result",
          "data": {
            "text/plain": [
              "Date                     object\n",
              "Open                    float64\n",
              "High                    float64\n",
              "Low                     float64\n",
              "Last                    float64\n",
              "Close                   float64\n",
              "Total Trade Quantity      int64\n",
              "Turnover (Lacs)         float64\n",
              "dtype: object"
            ]
          },
          "metadata": {},
          "execution_count": 6
        }
      ]
    },
    {
      "cell_type": "code",
      "metadata": {
        "colab": {
          "base_uri": "https://localhost:8080/",
          "height": 269
        },
        "id": "HDGsLi4lLeQE",
        "outputId": "9ca9142e-d0b3-43a5-f742-d098c88f56dd"
      },
      "source": [
        "df.describe().T"
      ],
      "execution_count": 7,
      "outputs": [
        {
          "output_type": "execute_result",
          "data": {
            "text/html": [
              "<div>\n",
              "<style scoped>\n",
              "    .dataframe tbody tr th:only-of-type {\n",
              "        vertical-align: middle;\n",
              "    }\n",
              "\n",
              "    .dataframe tbody tr th {\n",
              "        vertical-align: top;\n",
              "    }\n",
              "\n",
              "    .dataframe thead th {\n",
              "        text-align: right;\n",
              "    }\n",
              "</style>\n",
              "<table border=\"1\" class=\"dataframe\">\n",
              "  <thead>\n",
              "    <tr style=\"text-align: right;\">\n",
              "      <th></th>\n",
              "      <th>count</th>\n",
              "      <th>mean</th>\n",
              "      <th>std</th>\n",
              "      <th>min</th>\n",
              "      <th>25%</th>\n",
              "      <th>50%</th>\n",
              "      <th>75%</th>\n",
              "      <th>max</th>\n",
              "    </tr>\n",
              "  </thead>\n",
              "  <tbody>\n",
              "    <tr>\n",
              "      <th>Open</th>\n",
              "      <td>2035.0</td>\n",
              "      <td>1.497137e+02</td>\n",
              "      <td>4.866451e+01</td>\n",
              "      <td>81.10</td>\n",
              "      <td>120.025</td>\n",
              "      <td>141.50</td>\n",
              "      <td>157.175</td>\n",
              "      <td>327.70</td>\n",
              "    </tr>\n",
              "    <tr>\n",
              "      <th>High</th>\n",
              "      <td>2035.0</td>\n",
              "      <td>1.519928e+02</td>\n",
              "      <td>4.941311e+01</td>\n",
              "      <td>82.80</td>\n",
              "      <td>122.100</td>\n",
              "      <td>143.40</td>\n",
              "      <td>159.400</td>\n",
              "      <td>328.75</td>\n",
              "    </tr>\n",
              "    <tr>\n",
              "      <th>Low</th>\n",
              "      <td>2035.0</td>\n",
              "      <td>1.472939e+02</td>\n",
              "      <td>4.793196e+01</td>\n",
              "      <td>80.00</td>\n",
              "      <td>118.300</td>\n",
              "      <td>139.60</td>\n",
              "      <td>155.150</td>\n",
              "      <td>321.65</td>\n",
              "    </tr>\n",
              "    <tr>\n",
              "      <th>Last</th>\n",
              "      <td>2035.0</td>\n",
              "      <td>1.494743e+02</td>\n",
              "      <td>4.873257e+01</td>\n",
              "      <td>81.00</td>\n",
              "      <td>120.075</td>\n",
              "      <td>141.10</td>\n",
              "      <td>156.925</td>\n",
              "      <td>325.95</td>\n",
              "    </tr>\n",
              "    <tr>\n",
              "      <th>Close</th>\n",
              "      <td>2035.0</td>\n",
              "      <td>1.494503e+02</td>\n",
              "      <td>4.871204e+01</td>\n",
              "      <td>80.95</td>\n",
              "      <td>120.050</td>\n",
              "      <td>141.25</td>\n",
              "      <td>156.900</td>\n",
              "      <td>325.75</td>\n",
              "    </tr>\n",
              "    <tr>\n",
              "      <th>Total Trade Quantity</th>\n",
              "      <td>2035.0</td>\n",
              "      <td>2.335681e+06</td>\n",
              "      <td>2.091778e+06</td>\n",
              "      <td>39610.00</td>\n",
              "      <td>1146444.500</td>\n",
              "      <td>1783456.00</td>\n",
              "      <td>2813594.000</td>\n",
              "      <td>29191015.00</td>\n",
              "    </tr>\n",
              "    <tr>\n",
              "      <th>Turnover (Lacs)</th>\n",
              "      <td>2035.0</td>\n",
              "      <td>3.899981e+03</td>\n",
              "      <td>4.570768e+03</td>\n",
              "      <td>37.04</td>\n",
              "      <td>1427.460</td>\n",
              "      <td>2512.03</td>\n",
              "      <td>4539.015</td>\n",
              "      <td>55755.08</td>\n",
              "    </tr>\n",
              "  </tbody>\n",
              "</table>\n",
              "</div>"
            ],
            "text/plain": [
              "                       count          mean  ...          75%          max\n",
              "Open                  2035.0  1.497137e+02  ...      157.175       327.70\n",
              "High                  2035.0  1.519928e+02  ...      159.400       328.75\n",
              "Low                   2035.0  1.472939e+02  ...      155.150       321.65\n",
              "Last                  2035.0  1.494743e+02  ...      156.925       325.95\n",
              "Close                 2035.0  1.494503e+02  ...      156.900       325.75\n",
              "Total Trade Quantity  2035.0  2.335681e+06  ...  2813594.000  29191015.00\n",
              "Turnover (Lacs)       2035.0  3.899981e+03  ...     4539.015     55755.08\n",
              "\n",
              "[7 rows x 8 columns]"
            ]
          },
          "metadata": {},
          "execution_count": 7
        }
      ]
    },
    {
      "cell_type": "markdown",
      "metadata": {
        "id": "q39lTzhrLPuk"
      },
      "source": [
        "## Using only the Closed price"
      ]
    },
    {
      "cell_type": "code",
      "metadata": {
        "colab": {
          "base_uri": "https://localhost:8080/",
          "height": 206
        },
        "id": "Y3CRwF4zLPul",
        "outputId": "f6321496-9fe3-45ef-9419-37a7f620481a"
      },
      "source": [
        "df1 = df[['Date','Close']]\n",
        "df1 = df1.iloc[::-1]\n",
        "df1.head()"
      ],
      "execution_count": 8,
      "outputs": [
        {
          "output_type": "execute_result",
          "data": {
            "text/html": [
              "<div>\n",
              "<style scoped>\n",
              "    .dataframe tbody tr th:only-of-type {\n",
              "        vertical-align: middle;\n",
              "    }\n",
              "\n",
              "    .dataframe tbody tr th {\n",
              "        vertical-align: top;\n",
              "    }\n",
              "\n",
              "    .dataframe thead th {\n",
              "        text-align: right;\n",
              "    }\n",
              "</style>\n",
              "<table border=\"1\" class=\"dataframe\">\n",
              "  <thead>\n",
              "    <tr style=\"text-align: right;\">\n",
              "      <th></th>\n",
              "      <th>Date</th>\n",
              "      <th>Close</th>\n",
              "    </tr>\n",
              "  </thead>\n",
              "  <tbody>\n",
              "    <tr>\n",
              "      <th>2034</th>\n",
              "      <td>2010-07-21</td>\n",
              "      <td>121.55</td>\n",
              "    </tr>\n",
              "    <tr>\n",
              "      <th>2033</th>\n",
              "      <td>2010-07-22</td>\n",
              "      <td>120.90</td>\n",
              "    </tr>\n",
              "    <tr>\n",
              "      <th>2032</th>\n",
              "      <td>2010-07-23</td>\n",
              "      <td>120.65</td>\n",
              "    </tr>\n",
              "    <tr>\n",
              "      <th>2031</th>\n",
              "      <td>2010-07-26</td>\n",
              "      <td>117.60</td>\n",
              "    </tr>\n",
              "    <tr>\n",
              "      <th>2030</th>\n",
              "      <td>2010-07-27</td>\n",
              "      <td>118.65</td>\n",
              "    </tr>\n",
              "  </tbody>\n",
              "</table>\n",
              "</div>"
            ],
            "text/plain": [
              "            Date   Close\n",
              "2034  2010-07-21  121.55\n",
              "2033  2010-07-22  120.90\n",
              "2032  2010-07-23  120.65\n",
              "2031  2010-07-26  117.60\n",
              "2030  2010-07-27  118.65"
            ]
          },
          "metadata": {},
          "execution_count": 8
        }
      ]
    },
    {
      "cell_type": "code",
      "metadata": {
        "id": "cMazIATDLPum"
      },
      "source": [
        "df1['Date'] = pd.to_datetime(df1['Date'])"
      ],
      "execution_count": 9,
      "outputs": []
    },
    {
      "cell_type": "code",
      "metadata": {
        "colab": {
          "base_uri": "https://localhost:8080/"
        },
        "id": "tjmjYUupMY0s",
        "outputId": "82063031-12bc-4015-84dd-b55323c55fe8"
      },
      "source": [
        "df1.dtypes"
      ],
      "execution_count": 10,
      "outputs": [
        {
          "output_type": "execute_result",
          "data": {
            "text/plain": [
              "Date     datetime64[ns]\n",
              "Close           float64\n",
              "dtype: object"
            ]
          },
          "metadata": {},
          "execution_count": 10
        }
      ]
    },
    {
      "cell_type": "code",
      "metadata": {
        "colab": {
          "base_uri": "https://localhost:8080/",
          "height": 238
        },
        "id": "rk5hzifqNLQ0",
        "outputId": "9cd5e9a2-3e43-44cd-b18b-43dcfc7f44e1"
      },
      "source": [
        "df1 = df1.set_index(['Date'])\n",
        "df1.head()"
      ],
      "execution_count": 11,
      "outputs": [
        {
          "output_type": "execute_result",
          "data": {
            "text/html": [
              "<div>\n",
              "<style scoped>\n",
              "    .dataframe tbody tr th:only-of-type {\n",
              "        vertical-align: middle;\n",
              "    }\n",
              "\n",
              "    .dataframe tbody tr th {\n",
              "        vertical-align: top;\n",
              "    }\n",
              "\n",
              "    .dataframe thead th {\n",
              "        text-align: right;\n",
              "    }\n",
              "</style>\n",
              "<table border=\"1\" class=\"dataframe\">\n",
              "  <thead>\n",
              "    <tr style=\"text-align: right;\">\n",
              "      <th></th>\n",
              "      <th>Close</th>\n",
              "    </tr>\n",
              "    <tr>\n",
              "      <th>Date</th>\n",
              "      <th></th>\n",
              "    </tr>\n",
              "  </thead>\n",
              "  <tbody>\n",
              "    <tr>\n",
              "      <th>2010-07-21</th>\n",
              "      <td>121.55</td>\n",
              "    </tr>\n",
              "    <tr>\n",
              "      <th>2010-07-22</th>\n",
              "      <td>120.90</td>\n",
              "    </tr>\n",
              "    <tr>\n",
              "      <th>2010-07-23</th>\n",
              "      <td>120.65</td>\n",
              "    </tr>\n",
              "    <tr>\n",
              "      <th>2010-07-26</th>\n",
              "      <td>117.60</td>\n",
              "    </tr>\n",
              "    <tr>\n",
              "      <th>2010-07-27</th>\n",
              "      <td>118.65</td>\n",
              "    </tr>\n",
              "  </tbody>\n",
              "</table>\n",
              "</div>"
            ],
            "text/plain": [
              "             Close\n",
              "Date              \n",
              "2010-07-21  121.55\n",
              "2010-07-22  120.90\n",
              "2010-07-23  120.65\n",
              "2010-07-26  117.60\n",
              "2010-07-27  118.65"
            ]
          },
          "metadata": {},
          "execution_count": 11
        }
      ]
    },
    {
      "cell_type": "markdown",
      "metadata": {
        "id": "Mzq7uwI6LppQ"
      },
      "source": [
        "# Data Visualization"
      ]
    },
    {
      "cell_type": "markdown",
      "metadata": {
        "id": "8SLwZFUFXwMP"
      },
      "source": [
        "## Line plot of Closed Price over the years"
      ]
    },
    {
      "cell_type": "code",
      "metadata": {
        "colab": {
          "base_uri": "https://localhost:8080/",
          "height": 482
        },
        "id": "FrLkIuY4LPun",
        "outputId": "0f2b38d2-2e8a-47b5-bbc3-e455edb41705"
      },
      "source": [
        "# Line plot of Closed price over the years\n",
        "df1.plot(figsize = (13,8), color = 'm')\n",
        "plt.ylabel('Closing Price')"
      ],
      "execution_count": 12,
      "outputs": [
        {
          "output_type": "execute_result",
          "data": {
            "text/plain": [
              "Text(0, 0.5, 'Closing Price')"
            ]
          },
          "metadata": {},
          "execution_count": 12
        },
        {
          "output_type": "display_data",
          "data": {
            "image/png": "[encoded data removed]",
            "text/plain": [
              "<Figure size 936x576 with 1 Axes>"
            ]
          },
          "metadata": {
            "needs_background": "light"
          }
        }
      ]
    },
    {
      "cell_type": "markdown",
      "metadata": {
        "id": "-v92c-6WX2-6"
      },
      "source": [
        "## Distribution of Closing Price"
      ]
    },
    {
      "cell_type": "code",
      "metadata": {
        "colab": {
          "base_uri": "https://localhost:8080/",
          "height": 514
        },
        "id": "dlBwhe50PQSm",
        "outputId": "002325b1-800b-47c6-9a4e-282580a62aee"
      },
      "source": [
        "# Distribution of Closing Price\n",
        "plt.figure(figsize=(13,8))\n",
        "sns.distplot(df1['Close'], color = 'cyan')"
      ],
      "execution_count": 13,
      "outputs": [
        {
          "output_type": "execute_result",
          "data": {
            "text/plain": [
              "<matplotlib.axes._subplots.AxesSubplot at 0x7fb995e38790>"
            ]
          },
          "metadata": {},
          "execution_count": 13
        },
        {
          "output_type": "display_data",
          "data": {
            "image/png": "[encoded data removed]",
            "text/plain": [
              "<Figure size 936x576 with 1 Axes>"
            ]
          },
          "metadata": {
            "needs_background": "light"
          }
        }
      ]
    },
    {
      "cell_type": "markdown",
      "metadata": {
        "id": "4TbmiXPAX9gr"
      },
      "source": [
        "## Lag Plot"
      ]
    },
    {
      "cell_type": "code",
      "metadata": {
        "colab": {
          "base_uri": "https://localhost:8080/",
          "height": 497
        },
        "id": "DshrP2X2PvoJ",
        "outputId": "13766c14-738f-4db3-b540-c239c1856d96"
      },
      "source": [
        "# Lag Plot\n",
        "from pandas.plotting import lag_plot\n",
        "plt.figure(figsize=(13,8))\n",
        "lag_plot(df1['Close'])\n",
        "ax = plt.axes()\n",
        "plt.show()"
      ],
      "execution_count": 14,
      "outputs": [
        {
          "output_type": "display_data",
          "data": {
            "image/png": "[encoded data removed]",
            "text/plain": [
              "<Figure size 936x576 with 1 Axes>"
            ]
          },
          "metadata": {
            "needs_background": "light"
          }
        }
      ]
    },
    {
      "cell_type": "markdown",
      "metadata": {
        "id": "OGEcmEGeYAec"
      },
      "source": [
        "## ACF and PACF plot"
      ]
    },
    {
      "cell_type": "code",
      "metadata": {
        "colab": {
          "base_uri": "https://localhost:8080/",
          "height": 545
        },
        "id": "AzwUZqCdRIDF",
        "outputId": "909779b0-1c21-4634-fc2d-ef7549750ea9"
      },
      "source": [
        "# ACF and PACF plot\n",
        "import statsmodels.graphics.tsaplots as tsa_plots\n",
        "tsa_plots.plot_acf(df1.Close,lags=12)\n",
        "ax = plt.axes()\n",
        "tsa_plots.plot_pacf(df1.Close,lags=12)\n",
        "ax = plt.axes()\n",
        "plt.show()"
      ],
      "execution_count": 15,
      "outputs": [
        {
          "output_type": "display_data",
          "data": {
            "image/png": "[encoded data removed]",
            "text/plain": [
              "<Figure size 432x288 with 1 Axes>"
            ]
          },
          "metadata": {
            "needs_background": "light"
          }
        },
        {
          "output_type": "display_data",
          "data": {
            "image/png": "[encoded data removed]",
            "text/plain": [
              "<Figure size 432x288 with 1 Axes>"
            ]
          },
          "metadata": {
            "needs_background": "light"
          }
        }
      ]
    },
    {
      "cell_type": "markdown",
      "metadata": {
        "id": "xuMz0d0AYCpO"
      },
      "source": [
        "## Decomposition of the Close Price"
      ]
    },
    {
      "cell_type": "code",
      "metadata": {
        "colab": {
          "base_uri": "https://localhost:8080/",
          "height": 577
        },
        "id": "u5UQf799SiXy",
        "outputId": "ae06f3c1-9c0a-486e-be3a-28c601565777"
      },
      "source": [
        "# Decomposition of the Close price\n",
        "from statsmodels.tsa.seasonal import seasonal_decompose\n",
        "decompose_ts = seasonal_decompose(df1.Close, freq = 12)\n",
        "decompose_ts.plot()"
      ],
      "execution_count": 16,
      "outputs": [
        {
          "output_type": "execute_result",
          "data": {
            "image/png": "[encoded data removed]",
            "text/plain": [
              "<Figure size 432x288 with 4 Axes>"
            ]
          },
          "metadata": {},
          "execution_count": 16
        },
        {
          "output_type": "display_data",
          "data": {
            "image/png": "[encoded data removed]",
            "text/plain": [
              "<Figure size 432x288 with 4 Axes>"
            ]
          },
          "metadata": {
            "needs_background": "light"
          }
        }
      ]
    },
    {
      "cell_type": "markdown",
      "metadata": {
        "id": "2PXGpYxjTBxD"
      },
      "source": [
        "#### No Trend or Seasonality can be observed."
      ]
    },
    {
      "cell_type": "markdown",
      "metadata": {
        "id": "GdfJJOgZTqej"
      },
      "source": [
        "# Data Pre-processing"
      ]
    },
    {
      "cell_type": "markdown",
      "metadata": {
        "id": "YX3vJKJVTwAQ"
      },
      "source": [
        "## 1. Data Scaling"
      ]
    },
    {
      "cell_type": "code",
      "metadata": {
        "id": "X_CW2oF9LPup"
      },
      "source": [
        "from sklearn.preprocessing import MinMaxScaler\n",
        "scaler = MinMaxScaler(feature_range=(0,1))\n",
        "df1['Close'] = scaler.fit_transform(np.array(df1['Close']).reshape(-1,1))"
      ],
      "execution_count": 17,
      "outputs": []
    },
    {
      "cell_type": "code",
      "metadata": {
        "colab": {
          "base_uri": "https://localhost:8080/",
          "height": 238
        },
        "id": "Wn5Uc0NhUBSg",
        "outputId": "429ca14b-d060-4e81-c806-1dbadebbc1af"
      },
      "source": [
        "df1.head()"
      ],
      "execution_count": 18,
      "outputs": [
        {
          "output_type": "execute_result",
          "data": {
            "text/html": [
              "<div>\n",
              "<style scoped>\n",
              "    .dataframe tbody tr th:only-of-type {\n",
              "        vertical-align: middle;\n",
              "    }\n",
              "\n",
              "    .dataframe tbody tr th {\n",
              "        vertical-align: top;\n",
              "    }\n",
              "\n",
              "    .dataframe thead th {\n",
              "        text-align: right;\n",
              "    }\n",
              "</style>\n",
              "<table border=\"1\" class=\"dataframe\">\n",
              "  <thead>\n",
              "    <tr style=\"text-align: right;\">\n",
              "      <th></th>\n",
              "      <th>Close</th>\n",
              "    </tr>\n",
              "    <tr>\n",
              "      <th>Date</th>\n",
              "      <th></th>\n",
              "    </tr>\n",
              "  </thead>\n",
              "  <tbody>\n",
              "    <tr>\n",
              "      <th>2010-07-21</th>\n",
              "      <td>0.165850</td>\n",
              "    </tr>\n",
              "    <tr>\n",
              "      <th>2010-07-22</th>\n",
              "      <td>0.163194</td>\n",
              "    </tr>\n",
              "    <tr>\n",
              "      <th>2010-07-23</th>\n",
              "      <td>0.162173</td>\n",
              "    </tr>\n",
              "    <tr>\n",
              "      <th>2010-07-26</th>\n",
              "      <td>0.149714</td>\n",
              "    </tr>\n",
              "    <tr>\n",
              "      <th>2010-07-27</th>\n",
              "      <td>0.154003</td>\n",
              "    </tr>\n",
              "  </tbody>\n",
              "</table>\n",
              "</div>"
            ],
            "text/plain": [
              "               Close\n",
              "Date                \n",
              "2010-07-21  0.165850\n",
              "2010-07-22  0.163194\n",
              "2010-07-23  0.162173\n",
              "2010-07-26  0.149714\n",
              "2010-07-27  0.154003"
            ]
          },
          "metadata": {},
          "execution_count": 18
        }
      ]
    },
    {
      "cell_type": "markdown",
      "metadata": {
        "id": "KsrN-fcZUHW0"
      },
      "source": [
        "## 2. Data Splitting"
      ]
    },
    {
      "cell_type": "markdown",
      "metadata": {
        "id": "QOt1DZ9mYJzl"
      },
      "source": [
        "### a. Into Train and Test data"
      ]
    },
    {
      "cell_type": "code",
      "metadata": {
        "id": "3gxArwClLPuq"
      },
      "source": [
        "training_size = int(len(df1) * 0.65)      # 65% of length of data\n",
        "test_size = len(df1) - training_size      # 35% of length of data\n",
        "train_data, test_data = df1.iloc[0:training_size, :], df1.iloc[training_size:len(df1), :]"
      ],
      "execution_count": 19,
      "outputs": []
    },
    {
      "cell_type": "code",
      "metadata": {
        "colab": {
          "base_uri": "https://localhost:8080/"
        },
        "id": "HFKuy_nKLPuq",
        "outputId": "de76140f-9922-43ad-b9dc-9e3ebd5cbcc1"
      },
      "source": [
        "training_size,test_size"
      ],
      "execution_count": 20,
      "outputs": [
        {
          "output_type": "execute_result",
          "data": {
            "text/plain": [
              "(1322, 713)"
            ]
          },
          "metadata": {},
          "execution_count": 20
        }
      ]
    },
    {
      "cell_type": "code",
      "metadata": {
        "colab": {
          "base_uri": "https://localhost:8080/",
          "height": 238
        },
        "id": "BPFCVAd4LPuq",
        "outputId": "5dc1059a-61a2-404a-ce72-f8fabac4dcee"
      },
      "source": [
        "train_data[:5]"
      ],
      "execution_count": 21,
      "outputs": [
        {
          "output_type": "execute_result",
          "data": {
            "text/html": [
              "<div>\n",
              "<style scoped>\n",
              "    .dataframe tbody tr th:only-of-type {\n",
              "        vertical-align: middle;\n",
              "    }\n",
              "\n",
              "    .dataframe tbody tr th {\n",
              "        vertical-align: top;\n",
              "    }\n",
              "\n",
              "    .dataframe thead th {\n",
              "        text-align: right;\n",
              "    }\n",
              "</style>\n",
              "<table border=\"1\" class=\"dataframe\">\n",
              "  <thead>\n",
              "    <tr style=\"text-align: right;\">\n",
              "      <th></th>\n",
              "      <th>Close</th>\n",
              "    </tr>\n",
              "    <tr>\n",
              "      <th>Date</th>\n",
              "      <th></th>\n",
              "    </tr>\n",
              "  </thead>\n",
              "  <tbody>\n",
              "    <tr>\n",
              "      <th>2010-07-21</th>\n",
              "      <td>0.165850</td>\n",
              "    </tr>\n",
              "    <tr>\n",
              "      <th>2010-07-22</th>\n",
              "      <td>0.163194</td>\n",
              "    </tr>\n",
              "    <tr>\n",
              "      <th>2010-07-23</th>\n",
              "      <td>0.162173</td>\n",
              "    </tr>\n",
              "    <tr>\n",
              "      <th>2010-07-26</th>\n",
              "      <td>0.149714</td>\n",
              "    </tr>\n",
              "    <tr>\n",
              "      <th>2010-07-27</th>\n",
              "      <td>0.154003</td>\n",
              "    </tr>\n",
              "  </tbody>\n",
              "</table>\n",
              "</div>"
            ],
            "text/plain": [
              "               Close\n",
              "Date                \n",
              "2010-07-21  0.165850\n",
              "2010-07-22  0.163194\n",
              "2010-07-23  0.162173\n",
              "2010-07-26  0.149714\n",
              "2010-07-27  0.154003"
            ]
          },
          "metadata": {},
          "execution_count": 21
        }
      ]
    },
    {
      "cell_type": "code",
      "metadata": {
        "id": "-13hA6BUXJzf"
      },
      "source": [
        "train_data = np.array(train_data['Close'])\n",
        "test_data = np.array(test_data['Close'])"
      ],
      "execution_count": 22,
      "outputs": []
    },
    {
      "cell_type": "code",
      "metadata": {
        "id": "L03yTPtJXvAc"
      },
      "source": [
        "train_data = train_data.reshape(-1,1)\n",
        "test_data = test_data.reshape(-1,1)"
      ],
      "execution_count": 23,
      "outputs": []
    },
    {
      "cell_type": "markdown",
      "metadata": {
        "id": "oEmgrgP7YOv-"
      },
      "source": [
        "### b. Into independent and dependent variables"
      ]
    },
    {
      "cell_type": "code",
      "metadata": {
        "id": "fK2CONXALPur"
      },
      "source": [
        "# convert an array of values into a dataset matrix\n",
        "def create_dataset(dataset, time_step=1):\n",
        "\tdataX, dataY = [], []\n",
        "\tfor i in range(len(dataset)-time_step-1):\n",
        "\t\ta = dataset[i:(i+time_step), 0]    \n",
        "\t\tdataX.append(a)\n",
        "\t\tdataY.append(dataset[i + time_step, 0])\n",
        "\treturn np.array(dataX), np.array(dataY)"
      ],
      "execution_count": 24,
      "outputs": []
    },
    {
      "cell_type": "code",
      "metadata": {
        "id": "S3tHJzZqLPur"
      },
      "source": [
        "# reshape into X=t,t+1,t+2,t+3 and Y=t+4\n",
        "time_step = 100\n",
        "X_train, y_train = create_dataset(train_data, time_step)\n",
        "X_test, ytest = create_dataset(test_data, time_step)"
      ],
      "execution_count": 25,
      "outputs": []
    },
    {
      "cell_type": "code",
      "metadata": {
        "colab": {
          "base_uri": "https://localhost:8080/"
        },
        "id": "MLByl8sLLPur",
        "outputId": "623c8188-d52b-4880-eea4-52dfae09d5bc"
      },
      "source": [
        "X_train.shape, y_train.shape"
      ],
      "execution_count": 26,
      "outputs": [
        {
          "output_type": "execute_result",
          "data": {
            "text/plain": [
              "((1221, 100), (1221,))"
            ]
          },
          "metadata": {},
          "execution_count": 26
        }
      ]
    },
    {
      "cell_type": "code",
      "metadata": {
        "id": "zu1mtXzoLPus"
      },
      "source": [
        "# reshape input to be [samples, time steps, features] which is required for LSTM\n",
        "X_train =X_train.reshape(X_train.shape[0],X_train.shape[1] , 1)\n",
        "X_test = X_test.reshape(X_test.shape[0],X_test.shape[1] , 1)"
      ],
      "execution_count": 27,
      "outputs": []
    },
    {
      "cell_type": "markdown",
      "metadata": {
        "id": "dmlD-NXzYrRk"
      },
      "source": [
        "# Modelling"
      ]
    },
    {
      "cell_type": "markdown",
      "metadata": {
        "id": "1AxCKrxbYLT7"
      },
      "source": [
        "## Creating the Stacked LSTM Model"
      ]
    },
    {
      "cell_type": "code",
      "metadata": {
        "id": "QdNig1o1LPus"
      },
      "source": [
        "### Create the Stacked LSTM model\n",
        "from tensorflow.keras.models import Sequential\n",
        "from tensorflow.keras.layers import Dense , LSTM , Dropout\n",
        "from keras.wrappers.scikit_learn import KerasRegressor"
      ],
      "execution_count": 28,
      "outputs": []
    },
    {
      "cell_type": "code",
      "metadata": {
        "id": "t2oWQD6_LPus"
      },
      "source": [
        "model=Sequential()\n",
        "model.add(LSTM(100,return_sequences=True,input_shape=(100,1)))\n",
        "model.add(Dropout(0.1))\n",
        "model.add(LSTM(50,return_sequences=True))\n",
        "model.add(Dropout(0.1))\n",
        "model.add(LSTM(50))\n",
        "model.add(Dropout(0.1))\n",
        "model.add(Dense(1))\n",
        "model.compile(loss='mean_squared_error',optimizer='adam')\n"
      ],
      "execution_count": 29,
      "outputs": []
    },
    {
      "cell_type": "code",
      "metadata": {
        "colab": {
          "base_uri": "https://localhost:8080/"
        },
        "id": "jdSp83fpLPut",
        "outputId": "f7295de9-798a-4e88-eb50-ab53537bdb74"
      },
      "source": [
        "model.summary()"
      ],
      "execution_count": 30,
      "outputs": [
        {
          "output_type": "stream",
          "name": "stdout",
          "text": [
            "Model: \"sequential\"\n",
            "_________________________________________________________________\n",
            "Layer (type)                 Output Shape              Param #   \n",
            "=================================================================\n",
            "lstm (LSTM)                  (None, 100, 100)          40800     \n",
            "_________________________________________________________________\n",
            "dropout (Dropout)            (None, 100, 100)          0         \n",
            "_________________________________________________________________\n",
            "lstm_1 (LSTM)                (None, 100, 50)           30200     \n",
            "_________________________________________________________________\n",
            "dropout_1 (Dropout)          (None, 100, 50)           0         \n",
            "_________________________________________________________________\n",
            "lstm_2 (LSTM)                (None, 50)                20200     \n",
            "_________________________________________________________________\n",
            "dropout_2 (Dropout)          (None, 50)                0         \n",
            "_________________________________________________________________\n",
            "dense (Dense)                (None, 1)                 51        \n",
            "=================================================================\n",
            "Total params: 91,251\n",
            "Trainable params: 91,251\n",
            "Non-trainable params: 0\n",
            "_________________________________________________________________\n"
          ]
        }
      ]
    },
    {
      "cell_type": "code",
      "metadata": {
        "colab": {
          "base_uri": "https://localhost:8080/"
        },
        "id": "zMtvBoM1LPut",
        "outputId": "85d4a881-f49e-46f6-bed3-f362d10a8118"
      },
      "source": [
        "model.fit(X_train,y_train,validation_data=(X_test,ytest),epochs=50,batch_size=20,verbose=1)"
      ],
      "execution_count": 31,
      "outputs": [
        {
          "output_type": "stream",
          "name": "stdout",
          "text": [
            "Epoch 1/50\n",
            "62/62 [==============================] - 20s 226ms/step - loss: 0.0039 - val_loss: 0.0052\n",
            "Epoch 2/50\n",
            "62/62 [==============================] - 13s 207ms/step - loss: 0.0011 - val_loss: 0.0086\n",
            "Epoch 3/50\n",
            "62/62 [==============================] - 13s 204ms/step - loss: 9.9863e-04 - val_loss: 0.0177\n",
            "Epoch 4/50\n",
            "62/62 [==============================] - 13s 207ms/step - loss: 0.0011 - val_loss: 0.0050\n",
            "Epoch 5/50\n",
            "62/62 [==============================] - 13s 204ms/step - loss: 8.9340e-04 - val_loss: 0.0044\n",
            "Epoch 6/50\n",
            "62/62 [==============================] - 13s 203ms/step - loss: 9.6116e-04 - val_loss: 0.0021\n",
            "Epoch 7/50\n",
            "62/62 [==============================] - 13s 204ms/step - loss: 8.1845e-04 - val_loss: 0.0043\n",
            "Epoch 8/50\n",
            "62/62 [==============================] - 12s 201ms/step - loss: 7.1649e-04 - val_loss: 0.0028\n",
            "Epoch 9/50\n",
            "62/62 [==============================] - 12s 201ms/step - loss: 7.0084e-04 - val_loss: 0.0054\n",
            "Epoch 10/50\n",
            "62/62 [==============================] - 12s 199ms/step - loss: 6.5481e-04 - val_loss: 0.0061\n",
            "Epoch 11/50\n",
            "62/62 [==============================] - 12s 202ms/step - loss: 6.4866e-04 - val_loss: 0.0048\n",
            "Epoch 12/50\n",
            "62/62 [==============================] - 12s 201ms/step - loss: 6.2022e-04 - val_loss: 0.0034\n",
            "Epoch 13/50\n",
            "62/62 [==============================] - 12s 199ms/step - loss: 5.8061e-04 - val_loss: 0.0019\n",
            "Epoch 14/50\n",
            "62/62 [==============================] - 13s 203ms/step - loss: 5.8712e-04 - val_loss: 0.0018\n",
            "Epoch 15/50\n",
            "62/62 [==============================] - 12s 202ms/step - loss: 6.1242e-04 - val_loss: 0.0032\n",
            "Epoch 16/50\n",
            "62/62 [==============================] - 13s 204ms/step - loss: 5.3528e-04 - val_loss: 0.0022\n",
            "Epoch 17/50\n",
            "62/62 [==============================] - 12s 201ms/step - loss: 5.2660e-04 - val_loss: 0.0029\n",
            "Epoch 18/50\n",
            "62/62 [==============================] - 12s 201ms/step - loss: 4.7425e-04 - val_loss: 0.0020\n",
            "Epoch 19/50\n",
            "62/62 [==============================] - 13s 203ms/step - loss: 4.7271e-04 - val_loss: 0.0022\n",
            "Epoch 20/50\n",
            "62/62 [==============================] - 13s 203ms/step - loss: 4.3751e-04 - val_loss: 0.0032\n",
            "Epoch 21/50\n",
            "62/62 [==============================] - 13s 202ms/step - loss: 3.9463e-04 - val_loss: 0.0013\n",
            "Epoch 22/50\n",
            "62/62 [==============================] - 13s 202ms/step - loss: 4.0859e-04 - val_loss: 0.0020\n",
            "Epoch 23/50\n",
            "62/62 [==============================] - 12s 200ms/step - loss: 4.0971e-04 - val_loss: 0.0077\n",
            "Epoch 24/50\n",
            "62/62 [==============================] - 13s 202ms/step - loss: 5.0636e-04 - val_loss: 0.0034\n",
            "Epoch 25/50\n",
            "62/62 [==============================] - 13s 202ms/step - loss: 3.7038e-04 - val_loss: 0.0019\n",
            "Epoch 26/50\n",
            "62/62 [==============================] - 13s 204ms/step - loss: 3.4122e-04 - val_loss: 0.0035\n",
            "Epoch 27/50\n",
            "62/62 [==============================] - 13s 203ms/step - loss: 3.6366e-04 - val_loss: 0.0040\n",
            "Epoch 28/50\n",
            "62/62 [==============================] - 13s 203ms/step - loss: 4.0581e-04 - val_loss: 0.0024\n",
            "Epoch 29/50\n",
            "62/62 [==============================] - 13s 205ms/step - loss: 3.4132e-04 - val_loss: 0.0023\n",
            "Epoch 30/50\n",
            "62/62 [==============================] - 13s 204ms/step - loss: 3.0611e-04 - val_loss: 0.0026\n",
            "Epoch 31/50\n",
            "62/62 [==============================] - 13s 203ms/step - loss: 3.1455e-04 - val_loss: 0.0026\n",
            "Epoch 32/50\n",
            "62/62 [==============================] - 12s 202ms/step - loss: 3.0473e-04 - val_loss: 7.1775e-04\n",
            "Epoch 33/50\n",
            "62/62 [==============================] - 12s 201ms/step - loss: 3.6778e-04 - val_loss: 0.0014\n",
            "Epoch 34/50\n",
            "62/62 [==============================] - 13s 205ms/step - loss: 2.9984e-04 - val_loss: 0.0013\n",
            "Epoch 35/50\n",
            "62/62 [==============================] - 13s 206ms/step - loss: 2.8806e-04 - val_loss: 0.0021\n",
            "Epoch 36/50\n",
            "62/62 [==============================] - 13s 205ms/step - loss: 2.7633e-04 - val_loss: 0.0015\n",
            "Epoch 37/50\n",
            "62/62 [==============================] - 13s 204ms/step - loss: 2.8755e-04 - val_loss: 0.0016\n",
            "Epoch 38/50\n",
            "62/62 [==============================] - 13s 204ms/step - loss: 2.9481e-04 - val_loss: 0.0013\n",
            "Epoch 39/50\n",
            "62/62 [==============================] - 13s 203ms/step - loss: 2.6226e-04 - val_loss: 0.0024\n",
            "Epoch 40/50\n",
            "62/62 [==============================] - 13s 203ms/step - loss: 3.3283e-04 - val_loss: 0.0020\n",
            "Epoch 41/50\n",
            "62/62 [==============================] - 13s 202ms/step - loss: 2.5176e-04 - val_loss: 0.0018\n",
            "Epoch 42/50\n",
            "62/62 [==============================] - 13s 203ms/step - loss: 2.5942e-04 - val_loss: 0.0015\n",
            "Epoch 43/50\n",
            "62/62 [==============================] - 13s 203ms/step - loss: 2.4256e-04 - val_loss: 0.0015\n",
            "Epoch 44/50\n",
            "62/62 [==============================] - 13s 204ms/step - loss: 2.5006e-04 - val_loss: 0.0045\n",
            "Epoch 45/50\n",
            "62/62 [==============================] - 13s 204ms/step - loss: 4.3697e-04 - val_loss: 9.5715e-04\n",
            "Epoch 46/50\n",
            "62/62 [==============================] - 13s 206ms/step - loss: 3.1160e-04 - val_loss: 0.0017\n",
            "Epoch 47/50\n",
            "62/62 [==============================] - 13s 204ms/step - loss: 2.4850e-04 - val_loss: 9.4258e-04\n",
            "Epoch 48/50\n",
            "62/62 [==============================] - 12s 201ms/step - loss: 2.3514e-04 - val_loss: 0.0014\n",
            "Epoch 49/50\n",
            "62/62 [==============================] - 13s 203ms/step - loss: 2.3395e-04 - val_loss: 0.0027\n",
            "Epoch 50/50\n",
            "62/62 [==============================] - 13s 207ms/step - loss: 2.6042e-04 - val_loss: 0.0015\n"
          ]
        },
        {
          "output_type": "execute_result",
          "data": {
            "text/plain": [
              "<keras.callbacks.History at 0x7fb93bdd88d0>"
            ]
          },
          "metadata": {},
          "execution_count": 31
        }
      ]
    },
    {
      "cell_type": "markdown",
      "metadata": {
        "id": "lCbrm-v6YQJm"
      },
      "source": [
        "## Making Predictions"
      ]
    },
    {
      "cell_type": "code",
      "metadata": {
        "id": "mVTtbwaSLPuu"
      },
      "source": [
        "# Making Predictions\n",
        "train_predict=model.predict(X_train)\n",
        "test_predict=model.predict(X_test)"
      ],
      "execution_count": 32,
      "outputs": []
    },
    {
      "cell_type": "code",
      "metadata": {
        "id": "t5n6O98zLPuu"
      },
      "source": [
        "# Transformback to original form\n",
        "train_predict=scaler.inverse_transform(train_predict)\n",
        "test_predict=scaler.inverse_transform(test_predict)"
      ],
      "execution_count": 33,
      "outputs": []
    },
    {
      "cell_type": "markdown",
      "metadata": {
        "id": "1Fln1_tYYTc4"
      },
      "source": [
        "## RMSE Score"
      ]
    },
    {
      "cell_type": "code",
      "metadata": {
        "colab": {
          "base_uri": "https://localhost:8080/"
        },
        "id": "4PtGTyfqLPuv",
        "outputId": "2e9829e0-962a-47e9-e5d9-7b07697b40b3"
      },
      "source": [
        "# Calculating RMSE performance metrics\n",
        "import math\n",
        "from sklearn.metrics import mean_squared_error\n",
        "math.sqrt(mean_squared_error(y_train,train_predict))"
      ],
      "execution_count": 34,
      "outputs": [
        {
          "output_type": "execute_result",
          "data": {
            "text/plain": [
              "134.82462789822054"
            ]
          },
          "metadata": {},
          "execution_count": 34
        }
      ]
    },
    {
      "cell_type": "code",
      "metadata": {
        "colab": {
          "base_uri": "https://localhost:8080/"
        },
        "id": "TM1b4se0LPuv",
        "outputId": "ea6a1b67-647c-4bf3-c623-021c7da48ead"
      },
      "source": [
        "### Test Data RMSE\n",
        "math.sqrt(mean_squared_error(ytest,test_predict))"
      ],
      "execution_count": 35,
      "outputs": [
        {
          "output_type": "execute_result",
          "data": {
            "text/plain": [
              "195.0004973316675"
            ]
          },
          "metadata": {},
          "execution_count": 35
        }
      ]
    },
    {
      "cell_type": "markdown",
      "metadata": {
        "id": "r2BEojpIYX_j"
      },
      "source": [
        "# Experimental Analysis"
      ]
    },
    {
      "cell_type": "markdown",
      "metadata": {
        "id": "KBfIiNQ-Yb4s"
      },
      "source": [
        "## Plotting predictions on testing data"
      ]
    },
    {
      "cell_type": "code",
      "metadata": {
        "colab": {
          "base_uri": "https://localhost:8080/",
          "height": 483
        },
        "id": "yv7jJSJkLPuw",
        "outputId": "0519fde8-01e5-4f5f-be15-d2225f8d82ca"
      },
      "source": [
        "# Plotting \n",
        "# shift train predictions for plotting\n",
        "look_back=100\n",
        "trainPredictPlot = np.empty_like(df1)\n",
        "trainPredictPlot[:, :] = np.nan\n",
        "trainPredictPlot[look_back:len(train_predict)+look_back, :] = train_predict\n",
        "# shift test predictions for plotting\n",
        "testPredictPlot = np.empty_like(df1)\n",
        "testPredictPlot[:, :] = np.nan\n",
        "testPredictPlot[len(train_predict)+(look_back*2)+1:len(df1)-1, :] = test_predict\n",
        "# plot baseline and predictions\n",
        "plt.figure(figsize = (13,8))\n",
        "sns.set_style('whitegrid')\n",
        "plt.plot(scaler.inverse_transform(df1) , label = 'Actual Price')\n",
        "# plt.plot(trainPredictPlot)\n",
        "plt.plot(testPredictPlot, label = 'Predicted Testing Price')\n",
        "plt.legend()\n",
        "plt.show()"
      ],
      "execution_count": 36,
      "outputs": [
        {
          "output_type": "display_data",
          "data": {
            "image/png": "[encoded data removed]",
            "text/plain": [
              "<Figure size 936x576 with 1 Axes>"
            ]
          },
          "metadata": {
            "needs_background": "light"
          }
        }
      ]
    },
    {
      "cell_type": "code",
      "metadata": {
        "colab": {
          "base_uri": "https://localhost:8080/"
        },
        "id": "5wAOavGbLPuw",
        "outputId": "901fd2e1-1145-4fc0-e596-f8df95eedc5d"
      },
      "source": [
        "len(test_data)"
      ],
      "execution_count": 37,
      "outputs": [
        {
          "output_type": "execute_result",
          "data": {
            "text/plain": [
              "713"
            ]
          },
          "metadata": {},
          "execution_count": 37
        }
      ]
    },
    {
      "cell_type": "code",
      "metadata": {
        "colab": {
          "base_uri": "https://localhost:8080/"
        },
        "id": "PITiwvSlLPux",
        "outputId": "75525b8a-5977-45ef-fb6f-1cbf9eed5733"
      },
      "source": [
        "x_input=test_data[613:].reshape(1,-1)\n",
        "x_input.shape"
      ],
      "execution_count": 38,
      "outputs": [
        {
          "output_type": "execute_result",
          "data": {
            "text/plain": [
              "(1, 100)"
            ]
          },
          "metadata": {},
          "execution_count": 38
        }
      ]
    },
    {
      "cell_type": "code",
      "metadata": {
        "id": "0B_Aau8mLPux"
      },
      "source": [
        "temp_input=list(x_input)\n",
        "temp_input=temp_input[0].tolist()"
      ],
      "execution_count": 39,
      "outputs": []
    },
    {
      "cell_type": "code",
      "metadata": {
        "colab": {
          "base_uri": "https://localhost:8080/"
        },
        "id": "zQxjzu_dLPux",
        "outputId": "a056ce3b-3377-423d-dfb3-7fb0f1b0bddf"
      },
      "source": [
        "temp_input[:5]"
      ],
      "execution_count": 40,
      "outputs": [
        {
          "output_type": "execute_result",
          "data": {
            "text/plain": [
              "[0.8527369281045751,\n",
              " 0.8621323529411764,\n",
              " 0.8345588235294117,\n",
              " 0.84375,\n",
              " 0.7146650326797386]"
            ]
          },
          "metadata": {},
          "execution_count": 40
        }
      ]
    },
    {
      "cell_type": "markdown",
      "metadata": {
        "id": "anEpbYUbYuaF"
      },
      "source": [
        "## Forecasting the Close Price for next 30 days"
      ]
    },
    {
      "cell_type": "code",
      "metadata": {
        "id": "oR-wbNxLLPuy"
      },
      "source": [
        "# Taking previous 100 close prices as input and predicting 101st as output\n",
        "# then taking 1st to 101st close prices as input and predicting 102nd as output and so on...\n",
        "\n",
        "from numpy import array\n",
        "\n",
        "lst_output=[]\n",
        "n_steps=100\n",
        "i=0\n",
        "while(i<30):\n",
        "    \n",
        "    if(len(temp_input)>100):\n",
        "        #print(temp_input)\n",
        "        x_input=np.array(temp_input[1:])\n",
        "        #print(\"{} day input {}\".format(i,x_input))\n",
        "        x_input=x_input.reshape(1,-1)\n",
        "        x_input = x_input.reshape((1, n_steps, 1))\n",
        "        #print(x_input)\n",
        "        yhat = model.predict(x_input, verbose=0)\n",
        "        #print(\"{} day output {}\".format(i,yhat))\n",
        "        temp_input.extend(yhat[0].tolist())\n",
        "        temp_input=temp_input[1:]\n",
        "        #print(temp_input)\n",
        "        lst_output.extend(yhat.tolist())\n",
        "        i=i+1\n",
        "    else:\n",
        "        x_input = x_input.reshape((1, n_steps,1))\n",
        "        yhat = model.predict(x_input, verbose=0)\n",
        "        #print(yhat[0])\n",
        "        temp_input.extend(yhat[0].tolist())\n",
        "        #print(len(temp_input))\n",
        "        lst_output.extend(yhat.tolist())\n",
        "        i=i+1\n",
        "    \n",
        "\n",
        "#print(lst_output)"
      ],
      "execution_count": 41,
      "outputs": []
    },
    {
      "cell_type": "code",
      "metadata": {
        "id": "vlSVr2WzLPuy"
      },
      "source": [
        "day_new=np.arange(1,101)\n",
        "day_pred=np.arange(101,131)"
      ],
      "execution_count": 42,
      "outputs": []
    },
    {
      "cell_type": "code",
      "metadata": {
        "colab": {
          "base_uri": "https://localhost:8080/"
        },
        "id": "Sdf2ywW31xtz",
        "outputId": "73d495d0-e689-4aed-91ed-25d86b9d8ce4"
      },
      "source": [
        "len(df1)"
      ],
      "execution_count": 43,
      "outputs": [
        {
          "output_type": "execute_result",
          "data": {
            "text/plain": [
              "2035"
            ]
          },
          "metadata": {},
          "execution_count": 43
        }
      ]
    },
    {
      "cell_type": "markdown",
      "metadata": {
        "id": "6x54DZIzZgiB"
      },
      "source": [
        "## Forecast for next 30 days wrt previous 100 days Close Price"
      ]
    },
    {
      "cell_type": "code",
      "metadata": {
        "colab": {
          "base_uri": "https://localhost:8080/",
          "height": 516
        },
        "id": "EgixF7K7LPu0",
        "outputId": "c0253c72-3b7d-4564-dafa-8eed0018dd14"
      },
      "source": [
        "plt.figure(figsize = (13,8))\n",
        "plt.plot(day_new,scaler.inverse_transform(df1[1935:]), color = 'm' , label = 'Actual Price for past T-100 days')\n",
        "plt.plot(day_pred,scaler.inverse_transform(lst_output), color = 'red', label = 'Forecasted Price for T+30 days ')\n",
        "plt.title('Forecasting for 60 days')\n",
        "plt.legend()"
      ],
      "execution_count": 92,
      "outputs": [
        {
          "output_type": "execute_result",
          "data": {
            "text/plain": [
              "<matplotlib.legend.Legend at 0x7fb932fdc950>"
            ]
          },
          "metadata": {},
          "execution_count": 92
        },
        {
          "output_type": "display_data",
          "data": {
            "image/png": "[encoded data removed]",
            "text/plain": [
              "<Figure size 936x576 with 1 Axes>"
            ]
          },
          "metadata": {}
        }
      ]
    },
    {
      "cell_type": "code",
      "metadata": {
        "id": "YufLosWYKw4o"
      },
      "source": [
        "from datetime import datetime\n",
        "import datetime as dt\n",
        "lst = list(df1.index)\n",
        "numdays = 30\n",
        "date_list = [lst[-1] + dt.timedelta(days=x) for x in range(numdays)]"
      ],
      "execution_count": 91,
      "outputs": []
    },
    {
      "cell_type": "code",
      "metadata": {
        "colab": {
          "base_uri": "https://localhost:8080/",
          "height": 206
        },
        "id": "TBZqIGGfGvSb",
        "outputId": "ebe94437-db89-4315-ab32-6305b38835e1"
      },
      "source": [
        "forecast = pd.DataFrame(scaler.inverse_transform(lst_output) , columns = ['Close'] , index = date_list)\n",
        "forecast.head()"
      ],
      "execution_count": 94,
      "outputs": [
        {
          "output_type": "execute_result",
          "data": {
            "text/html": [
              "<div>\n",
              "<style scoped>\n",
              "    .dataframe tbody tr th:only-of-type {\n",
              "        vertical-align: middle;\n",
              "    }\n",
              "\n",
              "    .dataframe tbody tr th {\n",
              "        vertical-align: top;\n",
              "    }\n",
              "\n",
              "    .dataframe thead th {\n",
              "        text-align: right;\n",
              "    }\n",
              "</style>\n",
              "<table border=\"1\" class=\"dataframe\">\n",
              "  <thead>\n",
              "    <tr style=\"text-align: right;\">\n",
              "      <th></th>\n",
              "      <th>Close</th>\n",
              "    </tr>\n",
              "  </thead>\n",
              "  <tbody>\n",
              "    <tr>\n",
              "      <th>2018-09-28</th>\n",
              "      <td>225.980744</td>\n",
              "    </tr>\n",
              "    <tr>\n",
              "      <th>2018-09-29</th>\n",
              "      <td>219.996550</td>\n",
              "    </tr>\n",
              "    <tr>\n",
              "      <th>2018-09-30</th>\n",
              "      <td>212.805225</td>\n",
              "    </tr>\n",
              "    <tr>\n",
              "      <th>2018-10-01</th>\n",
              "      <td>207.339837</td>\n",
              "    </tr>\n",
              "    <tr>\n",
              "      <th>2018-10-02</th>\n",
              "      <td>203.396984</td>\n",
              "    </tr>\n",
              "  </tbody>\n",
              "</table>\n",
              "</div>"
            ],
            "text/plain": [
              "                 Close\n",
              "2018-09-28  225.980744\n",
              "2018-09-29  219.996550\n",
              "2018-09-30  212.805225\n",
              "2018-10-01  207.339837\n",
              "2018-10-02  203.396984"
            ]
          },
          "metadata": {},
          "execution_count": 94
        }
      ]
    },
    {
      "cell_type": "code",
      "metadata": {
        "id": "uTjPoNCCXfcF"
      },
      "source": [
        "df['Date'] = pd.to_datetime(df['Date'])\n",
        "df.set_index(['Date'], inplace=True)"
      ],
      "execution_count": null,
      "outputs": []
    },
    {
      "cell_type": "markdown",
      "metadata": {
        "id": "eQTsi8ZBaMa2"
      },
      "source": [
        "## Line plot of Close Price over the years with forecasted value for next 30 days"
      ]
    },
    {
      "cell_type": "code",
      "metadata": {
        "id": "bWqsTubBLPu0",
        "colab": {
          "base_uri": "https://localhost:8080/",
          "height": 518
        },
        "outputId": "b0f354b5-b79e-47d9-edc0-fb66a09ab700"
      },
      "source": [
        "plt.figure(figsize=(13,8))\n",
        "_, ax = plt.subplots(figsize= (13,8))\n",
        "ax.plot(df['Close'], label = 'Closing Price', color = 'cyan')\n",
        "ax.plot(forecast['Close'], label = 'Forecasted Price', color = 'red')\n",
        "plt.legend()"
      ],
      "execution_count": 105,
      "outputs": [
        {
          "output_type": "execute_result",
          "data": {
            "text/plain": [
              "<matplotlib.legend.Legend at 0x7fb932665b50>"
            ]
          },
          "metadata": {},
          "execution_count": 105
        },
        {
          "output_type": "display_data",
          "data": {
            "text/plain": [
              "<Figure size 936x576 with 0 Axes>"
            ]
          },
          "metadata": {}
        },
        {
          "output_type": "display_data",
          "data": {
            "image/png": "[encoded data removed]",
            "text/plain": [
              "<Figure size 936x576 with 1 Axes>"
            ]
          },
          "metadata": {}
        }
      ]
    }
  ]
}