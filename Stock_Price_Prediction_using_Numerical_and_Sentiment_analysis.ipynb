{
  "nbformat": 4,
  "nbformat_minor": 0,
  "metadata": {
    "colab": {
      "name": "Stock Price Prediction using Numerical and Sentiment analysis",
      "provenance": [],
      "collapsed_sections": [],
      "authorship_tag": "ABX9TyNAIW5N/sUSQeKwA7akqOnV",
      "include_colab_link": true
    },
    "kernelspec": {
      "name": "python3",
      "display_name": "Python 3"
    },
    "language_info": {
      "name": "python"
    },
    "accelerator": "GPU"
  },
  "cells": [
    {
      "cell_type": "markdown",
      "metadata": {
        "id": "view-in-github",
        "colab_type": "text"
      },
      "source": [
        "<a href=\"https://colab.research.google.com/github/harsh2k1/LGMVIP-DataScience/blob/main/Stock_Price_Prediction_using_Numerical_and_Sentiment_analysis.ipynb\" target=\"_parent\"><img src=\"https://colab.research.google.com/assets/colab-badge.svg\" alt=\"Open In Colab\"/></a>"
      ]
    },
    {
      "cell_type": "markdown",
      "metadata": {
        "id": "amtStMDvMF86"
      },
      "source": [
        "# Name: Harshpreet Singh\n",
        "# Task-1 GRIP-October 2021\n",
        "# Stock Market prediction using numerical and textual analysis \n",
        "# Level: Advanced"
      ]
    },
    {
      "cell_type": "markdown",
      "metadata": {
        "id": "-w6axxr_MICg"
      },
      "source": [
        "# Importing libraries"
      ]
    },
    {
      "cell_type": "code",
      "metadata": {
        "id": "Y1IXGGM0vuTa"
      },
      "source": [
        "#!pip install yfinance"
      ],
      "execution_count": null,
      "outputs": []
    },
    {
      "cell_type": "code",
      "metadata": {
        "id": "pxSXvhR07WmG"
      },
      "source": [
        "#!pip install pmdarima"
      ],
      "execution_count": null,
      "outputs": []
    },
    {
      "cell_type": "code",
      "metadata": {
        "colab": {
          "base_uri": "https://localhost:8080/"
        },
        "id": "odYGzRNVvcSY",
        "outputId": "16e51419-ee84-4ad3-c636-9607d340bca0"
      },
      "source": [
        "import yfinance as yf\n",
        "import pandas as pd\n",
        "import numpy as np\n",
        "import warnings\n",
        "warnings.filterwarnings('ignore')\n",
        "import matplotlib.pyplot as plt\n",
        "import seaborn as sns\n",
        "from pandas.plotting import lag_plot\n",
        "import statsmodels.graphics.tsaplots as tsa_plots\n",
        "from statsmodels.tsa.seasonal import seasonal_decompose\n",
        "from statsmodels.tsa.stattools import adfuller\n",
        "from statsmodels.tsa.arima_model import ARIMA\n",
        "import nltk\n",
        "import re\n",
        "from nltk.corpus import stopwords\n",
        "nltk.download('stopwords')\n",
        "nltk.download('vader_lexicon')\n",
        "from textblob import TextBlob\n",
        "from nltk.sentiment.vader import SentimentIntensityAnalyzer\n",
        "from nltk.stem.porter import PorterStemmer\n",
        "from sklearn.preprocessing import MinMaxScaler\n",
        "from sklearn.metrics import mean_squared_error, mean_absolute_error, r2_score\n",
        "from sklearn.model_selection import train_test_split\n",
        "from sklearn.ensemble import RandomForestRegressor, AdaBoostRegressor\n",
        "import xgboost \n",
        "import lightgbm\n",
        "#from pmdarima import auto_arima"
      ],
      "execution_count": null,
      "outputs": [
        {
          "output_type": "stream",
          "name": "stdout",
          "text": [
            "[nltk_data] Downloading package stopwords to /root/nltk_data...\n",
            "[nltk_data]   Package stopwords is already up-to-date!\n",
            "[nltk_data] Downloading package vader_lexicon to /root/nltk_data...\n",
            "[nltk_data]   Package vader_lexicon is already up-to-date!\n"
          ]
        }
      ]
    },
    {
      "cell_type": "markdown",
      "metadata": {
        "id": "eNHu6nDCMLEa"
      },
      "source": [
        "# Getting data"
      ]
    },
    {
      "cell_type": "markdown",
      "metadata": {
        "id": "t2IWpRg4MUne"
      },
      "source": [
        "## 1. Latest bsesn data"
      ]
    },
    {
      "cell_type": "code",
      "metadata": {
        "colab": {
          "base_uri": "https://localhost:8080/"
        },
        "id": "XdhU2FXLvsaY",
        "outputId": "9b94882e-79d5-463b-e016-44e7838aad02"
      },
      "source": [
        "bse_data = yf.download('^BSESN', start='2001-01-01', end='2021-10-05')"
      ],
      "execution_count": null,
      "outputs": [
        {
          "output_type": "stream",
          "name": "stdout",
          "text": [
            "\r[*********************100%***********************]  1 of 1 completed\n"
          ]
        }
      ]
    },
    {
      "cell_type": "code",
      "metadata": {
        "colab": {
          "base_uri": "https://localhost:8080/",
          "height": 447
        },
        "id": "Xt6xn_4LKdbx",
        "outputId": "8a09b83d-9614-47fe-db66-f086f567af29"
      },
      "source": [
        "bse_data"
      ],
      "execution_count": null,
      "outputs": [
        {
          "output_type": "execute_result",
          "data": {
            "text/html": [
              "<div>\n",
              "<style scoped>\n",
              "    .dataframe tbody tr th:only-of-type {\n",
              "        vertical-align: middle;\n",
              "    }\n",
              "\n",
              "    .dataframe tbody tr th {\n",
              "        vertical-align: top;\n",
              "    }\n",
              "\n",
              "    .dataframe thead th {\n",
              "        text-align: right;\n",
              "    }\n",
              "</style>\n",
              "<table border=\"1\" class=\"dataframe\">\n",
              "  <thead>\n",
              "    <tr style=\"text-align: right;\">\n",
              "      <th></th>\n",
              "      <th>Open</th>\n",
              "      <th>High</th>\n",
              "      <th>Low</th>\n",
              "      <th>Close</th>\n",
              "      <th>Adj Close</th>\n",
              "      <th>Volume</th>\n",
              "    </tr>\n",
              "    <tr>\n",
              "      <th>Date</th>\n",
              "      <th></th>\n",
              "      <th></th>\n",
              "      <th></th>\n",
              "      <th></th>\n",
              "      <th></th>\n",
              "      <th></th>\n",
              "    </tr>\n",
              "  </thead>\n",
              "  <tbody>\n",
              "    <tr>\n",
              "      <th>2001-01-02</th>\n",
              "      <td>3953.219971</td>\n",
              "      <td>4028.570068</td>\n",
              "      <td>3929.370117</td>\n",
              "      <td>4018.879883</td>\n",
              "      <td>4018.879883</td>\n",
              "      <td>0</td>\n",
              "    </tr>\n",
              "    <tr>\n",
              "      <th>2001-01-03</th>\n",
              "      <td>3977.580078</td>\n",
              "      <td>4067.659912</td>\n",
              "      <td>3977.580078</td>\n",
              "      <td>4060.020020</td>\n",
              "      <td>4060.020020</td>\n",
              "      <td>0</td>\n",
              "    </tr>\n",
              "    <tr>\n",
              "      <th>2001-01-04</th>\n",
              "      <td>4180.970215</td>\n",
              "      <td>4180.970215</td>\n",
              "      <td>4109.549805</td>\n",
              "      <td>4115.370117</td>\n",
              "      <td>4115.370117</td>\n",
              "      <td>0</td>\n",
              "    </tr>\n",
              "    <tr>\n",
              "      <th>2001-01-05</th>\n",
              "      <td>4116.339844</td>\n",
              "      <td>4195.009766</td>\n",
              "      <td>4115.350098</td>\n",
              "      <td>4183.729980</td>\n",
              "      <td>4183.729980</td>\n",
              "      <td>0</td>\n",
              "    </tr>\n",
              "    <tr>\n",
              "      <th>2001-01-08</th>\n",
              "      <td>4164.759766</td>\n",
              "      <td>4206.720215</td>\n",
              "      <td>4101.529785</td>\n",
              "      <td>4120.430176</td>\n",
              "      <td>4120.430176</td>\n",
              "      <td>0</td>\n",
              "    </tr>\n",
              "    <tr>\n",
              "      <th>...</th>\n",
              "      <td>...</td>\n",
              "      <td>...</td>\n",
              "      <td>...</td>\n",
              "      <td>...</td>\n",
              "      <td>...</td>\n",
              "      <td>...</td>\n",
              "    </tr>\n",
              "    <tr>\n",
              "      <th>2021-09-28</th>\n",
              "      <td>60285.890625</td>\n",
              "      <td>60288.441406</td>\n",
              "      <td>59045.531250</td>\n",
              "      <td>59667.601562</td>\n",
              "      <td>59667.601562</td>\n",
              "      <td>21100</td>\n",
              "    </tr>\n",
              "    <tr>\n",
              "      <th>2021-09-29</th>\n",
              "      <td>59296.539062</td>\n",
              "      <td>59678.660156</td>\n",
              "      <td>59111.410156</td>\n",
              "      <td>59413.269531</td>\n",
              "      <td>59413.269531</td>\n",
              "      <td>16100</td>\n",
              "    </tr>\n",
              "    <tr>\n",
              "      <th>2021-09-30</th>\n",
              "      <td>59549.570312</td>\n",
              "      <td>59557.238281</td>\n",
              "      <td>59019.281250</td>\n",
              "      <td>59126.359375</td>\n",
              "      <td>59126.359375</td>\n",
              "      <td>8900</td>\n",
              "    </tr>\n",
              "    <tr>\n",
              "      <th>2021-10-01</th>\n",
              "      <td>58889.769531</td>\n",
              "      <td>58890.078125</td>\n",
              "      <td>58551.140625</td>\n",
              "      <td>58765.578125</td>\n",
              "      <td>58765.578125</td>\n",
              "      <td>10200</td>\n",
              "    </tr>\n",
              "    <tr>\n",
              "      <th>2021-10-04</th>\n",
              "      <td>59143.000000</td>\n",
              "      <td>59548.820312</td>\n",
              "      <td>58952.109375</td>\n",
              "      <td>59299.320312</td>\n",
              "      <td>59299.320312</td>\n",
              "      <td>10000</td>\n",
              "    </tr>\n",
              "  </tbody>\n",
              "</table>\n",
              "<p>5107 rows × 6 columns</p>\n",
              "</div>"
            ],
            "text/plain": [
              "                    Open          High  ...     Adj Close  Volume\n",
              "Date                                    ...                      \n",
              "2001-01-02   3953.219971   4028.570068  ...   4018.879883       0\n",
              "2001-01-03   3977.580078   4067.659912  ...   4060.020020       0\n",
              "2001-01-04   4180.970215   4180.970215  ...   4115.370117       0\n",
              "2001-01-05   4116.339844   4195.009766  ...   4183.729980       0\n",
              "2001-01-08   4164.759766   4206.720215  ...   4120.430176       0\n",
              "...                  ...           ...  ...           ...     ...\n",
              "2021-09-28  60285.890625  60288.441406  ...  59667.601562   21100\n",
              "2021-09-29  59296.539062  59678.660156  ...  59413.269531   16100\n",
              "2021-09-30  59549.570312  59557.238281  ...  59126.359375    8900\n",
              "2021-10-01  58889.769531  58890.078125  ...  58765.578125   10200\n",
              "2021-10-04  59143.000000  59548.820312  ...  59299.320312   10000\n",
              "\n",
              "[5107 rows x 6 columns]"
            ]
          },
          "metadata": {},
          "execution_count": 31
        }
      ]
    },
    {
      "cell_type": "code",
      "metadata": {
        "colab": {
          "base_uri": "https://localhost:8080/"
        },
        "id": "tjq98pxnK8hw",
        "outputId": "26d0d688-c10b-430c-9e55-ed7a62522fc2"
      },
      "source": [
        "bse_data.isnull().sum()"
      ],
      "execution_count": null,
      "outputs": [
        {
          "output_type": "execute_result",
          "data": {
            "text/plain": [
              "Open         0\n",
              "High         0\n",
              "Low          0\n",
              "Close        0\n",
              "Adj Close    0\n",
              "Volume       0\n",
              "dtype: int64"
            ]
          },
          "metadata": {},
          "execution_count": 32
        }
      ]
    },
    {
      "cell_type": "code",
      "metadata": {
        "colab": {
          "base_uri": "https://localhost:8080/"
        },
        "id": "wCuBG2mzRFIx",
        "outputId": "4663d672-82af-412b-c5e1-b19db827d897"
      },
      "source": [
        "bse_data.dtypes"
      ],
      "execution_count": null,
      "outputs": [
        {
          "output_type": "execute_result",
          "data": {
            "text/plain": [
              "Open         float64\n",
              "High         float64\n",
              "Low          float64\n",
              "Close        float64\n",
              "Adj Close    float64\n",
              "Volume         int64\n",
              "dtype: object"
            ]
          },
          "metadata": {},
          "execution_count": 33
        }
      ]
    },
    {
      "cell_type": "markdown",
      "metadata": {
        "id": "bt4EYiWgMZJ0"
      },
      "source": [
        "## 2. News headlines data"
      ]
    },
    {
      "cell_type": "code",
      "metadata": {
        "colab": {
          "base_uri": "https://localhost:8080/"
        },
        "id": "58khcm2KMetL",
        "outputId": "c2c3a54b-1c2a-4c25-af2e-4c407112bd29"
      },
      "source": [
        "from google.colab import drive\n",
        "drive.mount('/content/drive')"
      ],
      "execution_count": null,
      "outputs": [
        {
          "output_type": "stream",
          "name": "stdout",
          "text": [
            "Drive already mounted at /content/drive; to attempt to forcibly remount, call drive.mount(\"/content/drive\", force_remount=True).\n"
          ]
        }
      ]
    },
    {
      "cell_type": "code",
      "metadata": {
        "colab": {
          "base_uri": "https://localhost:8080/",
          "height": 203
        },
        "id": "4dGsI0wjK8bH",
        "outputId": "6bc932c1-0066-4dbc-e8f1-c52154bd6333"
      },
      "source": [
        "path = '/content/drive/My Drive/india-news-headlines.csv'\n",
        "news_df = pd.read_csv(path)\n",
        "news_df.tail()"
      ],
      "execution_count": null,
      "outputs": [
        {
          "output_type": "execute_result",
          "data": {
            "text/html": [
              "<div>\n",
              "<style scoped>\n",
              "    .dataframe tbody tr th:only-of-type {\n",
              "        vertical-align: middle;\n",
              "    }\n",
              "\n",
              "    .dataframe tbody tr th {\n",
              "        vertical-align: top;\n",
              "    }\n",
              "\n",
              "    .dataframe thead th {\n",
              "        text-align: right;\n",
              "    }\n",
              "</style>\n",
              "<table border=\"1\" class=\"dataframe\">\n",
              "  <thead>\n",
              "    <tr style=\"text-align: right;\">\n",
              "      <th></th>\n",
              "      <th>publish_date</th>\n",
              "      <th>headline_category</th>\n",
              "      <th>headline_text</th>\n",
              "    </tr>\n",
              "  </thead>\n",
              "  <tbody>\n",
              "    <tr>\n",
              "      <th>3424062</th>\n",
              "      <td>20201231</td>\n",
              "      <td>city.jodhpur</td>\n",
              "      <td>Covid-19: Despite dip in cases; Rajasthan amon...</td>\n",
              "    </tr>\n",
              "    <tr>\n",
              "      <th>3424063</th>\n",
              "      <td>20201231</td>\n",
              "      <td>city.udaipur</td>\n",
              "      <td>Covid-19: Despite dip in cases; Rajasthan amon...</td>\n",
              "    </tr>\n",
              "    <tr>\n",
              "      <th>3424064</th>\n",
              "      <td>20201231</td>\n",
              "      <td>city.ajmer</td>\n",
              "      <td>Covid-19: Despite dip in cases; Rajasthan amon...</td>\n",
              "    </tr>\n",
              "    <tr>\n",
              "      <th>3424065</th>\n",
              "      <td>20201231</td>\n",
              "      <td>removed</td>\n",
              "      <td>Govt extends deadline for use of FASTag till F...</td>\n",
              "    </tr>\n",
              "    <tr>\n",
              "      <th>3424066</th>\n",
              "      <td>20201231</td>\n",
              "      <td>entertainment.bengali.movies.news</td>\n",
              "      <td>Celebs plan to party safely and responsibly on...</td>\n",
              "    </tr>\n",
              "  </tbody>\n",
              "</table>\n",
              "</div>"
            ],
            "text/plain": [
              "         publish_date  ...                                      headline_text\n",
              "3424062      20201231  ...  Covid-19: Despite dip in cases; Rajasthan amon...\n",
              "3424063      20201231  ...  Covid-19: Despite dip in cases; Rajasthan amon...\n",
              "3424064      20201231  ...  Covid-19: Despite dip in cases; Rajasthan amon...\n",
              "3424065      20201231  ...  Govt extends deadline for use of FASTag till F...\n",
              "3424066      20201231  ...  Celebs plan to party safely and responsibly on...\n",
              "\n",
              "[5 rows x 3 columns]"
            ]
          },
          "metadata": {},
          "execution_count": 35
        }
      ]
    },
    {
      "cell_type": "code",
      "metadata": {
        "colab": {
          "base_uri": "https://localhost:8080/"
        },
        "id": "AVYEtmA3Q5re",
        "outputId": "b9221afd-3b1d-4b50-fe0f-af92a85022bd"
      },
      "source": [
        "news_df.isnull().sum()"
      ],
      "execution_count": null,
      "outputs": [
        {
          "output_type": "execute_result",
          "data": {
            "text/plain": [
              "publish_date         0\n",
              "headline_category    0\n",
              "headline_text        0\n",
              "dtype: int64"
            ]
          },
          "metadata": {},
          "execution_count": 36
        }
      ]
    },
    {
      "cell_type": "markdown",
      "metadata": {
        "id": "OskvVZZbQN1O"
      },
      "source": [
        "# Feature extraction and Data Cleaning"
      ]
    },
    {
      "cell_type": "markdown",
      "metadata": {
        "id": "1kPtQpBQQSCP"
      },
      "source": [
        "## Extracting Closing Price from bse data"
      ]
    },
    {
      "cell_type": "code",
      "metadata": {
        "colab": {
          "base_uri": "https://localhost:8080/",
          "height": 234
        },
        "id": "8DU5TlcCK8YA",
        "outputId": "cbe0d3f5-862f-46e2-baf5-9df5ff864a35"
      },
      "source": [
        "stock_df = pd.DataFrame(bse_data['Close'] , index = bse_data.index , columns = ['Close'])\n",
        "stock_df.head()"
      ],
      "execution_count": null,
      "outputs": [
        {
          "output_type": "execute_result",
          "data": {
            "text/html": [
              "<div>\n",
              "<style scoped>\n",
              "    .dataframe tbody tr th:only-of-type {\n",
              "        vertical-align: middle;\n",
              "    }\n",
              "\n",
              "    .dataframe tbody tr th {\n",
              "        vertical-align: top;\n",
              "    }\n",
              "\n",
              "    .dataframe thead th {\n",
              "        text-align: right;\n",
              "    }\n",
              "</style>\n",
              "<table border=\"1\" class=\"dataframe\">\n",
              "  <thead>\n",
              "    <tr style=\"text-align: right;\">\n",
              "      <th></th>\n",
              "      <th>Close</th>\n",
              "    </tr>\n",
              "    <tr>\n",
              "      <th>Date</th>\n",
              "      <th></th>\n",
              "    </tr>\n",
              "  </thead>\n",
              "  <tbody>\n",
              "    <tr>\n",
              "      <th>2001-01-02</th>\n",
              "      <td>4018.879883</td>\n",
              "    </tr>\n",
              "    <tr>\n",
              "      <th>2001-01-03</th>\n",
              "      <td>4060.020020</td>\n",
              "    </tr>\n",
              "    <tr>\n",
              "      <th>2001-01-04</th>\n",
              "      <td>4115.370117</td>\n",
              "    </tr>\n",
              "    <tr>\n",
              "      <th>2001-01-05</th>\n",
              "      <td>4183.729980</td>\n",
              "    </tr>\n",
              "    <tr>\n",
              "      <th>2001-01-08</th>\n",
              "      <td>4120.430176</td>\n",
              "    </tr>\n",
              "  </tbody>\n",
              "</table>\n",
              "</div>"
            ],
            "text/plain": [
              "                  Close\n",
              "Date                   \n",
              "2001-01-02  4018.879883\n",
              "2001-01-03  4060.020020\n",
              "2001-01-04  4115.370117\n",
              "2001-01-05  4183.729980\n",
              "2001-01-08  4120.430176"
            ]
          },
          "metadata": {},
          "execution_count": 37
        }
      ]
    },
    {
      "cell_type": "markdown",
      "metadata": {
        "id": "k6P0I2BSQ-Dy"
      },
      "source": [
        "## Converting dates to datetime datatype"
      ]
    },
    {
      "cell_type": "code",
      "metadata": {
        "colab": {
          "base_uri": "https://localhost:8080/",
          "height": 203
        },
        "id": "bogZkItYK8VN",
        "outputId": "bbf16dcf-ccfe-448e-acf9-c26d7e5f54a7"
      },
      "source": [
        "news_df['publish_date'] = pd.to_datetime(news_df['publish_date'],format= '%Y%m%d')\n",
        "news_df[:5]"
      ],
      "execution_count": null,
      "outputs": [
        {
          "output_type": "execute_result",
          "data": {
            "text/html": [
              "<div>\n",
              "<style scoped>\n",
              "    .dataframe tbody tr th:only-of-type {\n",
              "        vertical-align: middle;\n",
              "    }\n",
              "\n",
              "    .dataframe tbody tr th {\n",
              "        vertical-align: top;\n",
              "    }\n",
              "\n",
              "    .dataframe thead th {\n",
              "        text-align: right;\n",
              "    }\n",
              "</style>\n",
              "<table border=\"1\" class=\"dataframe\">\n",
              "  <thead>\n",
              "    <tr style=\"text-align: right;\">\n",
              "      <th></th>\n",
              "      <th>publish_date</th>\n",
              "      <th>headline_category</th>\n",
              "      <th>headline_text</th>\n",
              "    </tr>\n",
              "  </thead>\n",
              "  <tbody>\n",
              "    <tr>\n",
              "      <th>0</th>\n",
              "      <td>2001-01-02</td>\n",
              "      <td>unknown</td>\n",
              "      <td>Status quo will not be disturbed at Ayodhya; s...</td>\n",
              "    </tr>\n",
              "    <tr>\n",
              "      <th>1</th>\n",
              "      <td>2001-01-02</td>\n",
              "      <td>unknown</td>\n",
              "      <td>Fissures in Hurriyat over Pak visit</td>\n",
              "    </tr>\n",
              "    <tr>\n",
              "      <th>2</th>\n",
              "      <td>2001-01-02</td>\n",
              "      <td>unknown</td>\n",
              "      <td>America's unwanted heading for India?</td>\n",
              "    </tr>\n",
              "    <tr>\n",
              "      <th>3</th>\n",
              "      <td>2001-01-02</td>\n",
              "      <td>unknown</td>\n",
              "      <td>For bigwigs; it is destination Goa</td>\n",
              "    </tr>\n",
              "    <tr>\n",
              "      <th>4</th>\n",
              "      <td>2001-01-02</td>\n",
              "      <td>unknown</td>\n",
              "      <td>Extra buses to clear tourist traffic</td>\n",
              "    </tr>\n",
              "  </tbody>\n",
              "</table>\n",
              "</div>"
            ],
            "text/plain": [
              "  publish_date  ...                                      headline_text\n",
              "0   2001-01-02  ...  Status quo will not be disturbed at Ayodhya; s...\n",
              "1   2001-01-02  ...                Fissures in Hurriyat over Pak visit\n",
              "2   2001-01-02  ...              America's unwanted heading for India?\n",
              "3   2001-01-02  ...                 For bigwigs; it is destination Goa\n",
              "4   2001-01-02  ...               Extra buses to clear tourist traffic\n",
              "\n",
              "[5 rows x 3 columns]"
            ]
          },
          "metadata": {},
          "execution_count": 38
        }
      ]
    },
    {
      "cell_type": "code",
      "metadata": {
        "colab": {
          "base_uri": "https://localhost:8080/"
        },
        "id": "IvNwMDisK8SO",
        "outputId": "faf7872d-a4d7-4525-8724-f0adac6fd631"
      },
      "source": [
        "news_df.dtypes"
      ],
      "execution_count": null,
      "outputs": [
        {
          "output_type": "execute_result",
          "data": {
            "text/plain": [
              "publish_date         datetime64[ns]\n",
              "headline_category            object\n",
              "headline_text                object\n",
              "dtype: object"
            ]
          },
          "metadata": {},
          "execution_count": 39
        }
      ]
    },
    {
      "cell_type": "code",
      "metadata": {
        "colab": {
          "base_uri": "https://localhost:8080/",
          "height": 234
        },
        "id": "j3YcmlzzK8PC",
        "outputId": "52b17757-2543-49b6-c742-8778c21ef539"
      },
      "source": [
        "# Setting index as publish date\n",
        "news_df.drop(['headline_category'], axis = 1, inplace = True)\n",
        "news_df.set_index('publish_date', inplace = True)\n",
        "news_df.head()"
      ],
      "execution_count": null,
      "outputs": [
        {
          "output_type": "execute_result",
          "data": {
            "text/html": [
              "<div>\n",
              "<style scoped>\n",
              "    .dataframe tbody tr th:only-of-type {\n",
              "        vertical-align: middle;\n",
              "    }\n",
              "\n",
              "    .dataframe tbody tr th {\n",
              "        vertical-align: top;\n",
              "    }\n",
              "\n",
              "    .dataframe thead th {\n",
              "        text-align: right;\n",
              "    }\n",
              "</style>\n",
              "<table border=\"1\" class=\"dataframe\">\n",
              "  <thead>\n",
              "    <tr style=\"text-align: right;\">\n",
              "      <th></th>\n",
              "      <th>headline_text</th>\n",
              "    </tr>\n",
              "    <tr>\n",
              "      <th>publish_date</th>\n",
              "      <th></th>\n",
              "    </tr>\n",
              "  </thead>\n",
              "  <tbody>\n",
              "    <tr>\n",
              "      <th>2001-01-02</th>\n",
              "      <td>Status quo will not be disturbed at Ayodhya; s...</td>\n",
              "    </tr>\n",
              "    <tr>\n",
              "      <th>2001-01-02</th>\n",
              "      <td>Fissures in Hurriyat over Pak visit</td>\n",
              "    </tr>\n",
              "    <tr>\n",
              "      <th>2001-01-02</th>\n",
              "      <td>America's unwanted heading for India?</td>\n",
              "    </tr>\n",
              "    <tr>\n",
              "      <th>2001-01-02</th>\n",
              "      <td>For bigwigs; it is destination Goa</td>\n",
              "    </tr>\n",
              "    <tr>\n",
              "      <th>2001-01-02</th>\n",
              "      <td>Extra buses to clear tourist traffic</td>\n",
              "    </tr>\n",
              "  </tbody>\n",
              "</table>\n",
              "</div>"
            ],
            "text/plain": [
              "                                                  headline_text\n",
              "publish_date                                                   \n",
              "2001-01-02    Status quo will not be disturbed at Ayodhya; s...\n",
              "2001-01-02                  Fissures in Hurriyat over Pak visit\n",
              "2001-01-02                America's unwanted heading for India?\n",
              "2001-01-02                   For bigwigs; it is destination Goa\n",
              "2001-01-02                 Extra buses to clear tourist traffic"
            ]
          },
          "metadata": {},
          "execution_count": 40
        }
      ]
    },
    {
      "cell_type": "code",
      "metadata": {
        "id": "wQ0B0CwWK8JG"
      },
      "source": [
        "news_df.index = news_df.index.rename('Date')"
      ],
      "execution_count": null,
      "outputs": []
    },
    {
      "cell_type": "code",
      "metadata": {
        "colab": {
          "base_uri": "https://localhost:8080/",
          "height": 418
        },
        "id": "BOlOl6dprrfC",
        "outputId": "4129f51b-6eca-43fc-8664-882a4ba67857"
      },
      "source": [
        "# Grouping the headlines for each day\n",
        "news_df['date'] = news_df.index\n",
        "news_df['headline_text'] = news_df.groupby(['date']).transform(lambda x : ' '.join(x)) \n",
        "news_df = news_df.drop_duplicates() \n",
        "# news_df.reset_index(inplace = True, drop = True)\n",
        "news_df.set_index('date', inplace = True)\n",
        "news_df[:11]"
      ],
      "execution_count": null,
      "outputs": [
        {
          "output_type": "execute_result",
          "data": {
            "text/html": [
              "<div>\n",
              "<style scoped>\n",
              "    .dataframe tbody tr th:only-of-type {\n",
              "        vertical-align: middle;\n",
              "    }\n",
              "\n",
              "    .dataframe tbody tr th {\n",
              "        vertical-align: top;\n",
              "    }\n",
              "\n",
              "    .dataframe thead th {\n",
              "        text-align: right;\n",
              "    }\n",
              "</style>\n",
              "<table border=\"1\" class=\"dataframe\">\n",
              "  <thead>\n",
              "    <tr style=\"text-align: right;\">\n",
              "      <th></th>\n",
              "      <th>headline_text</th>\n",
              "    </tr>\n",
              "    <tr>\n",
              "      <th>date</th>\n",
              "      <th></th>\n",
              "    </tr>\n",
              "  </thead>\n",
              "  <tbody>\n",
              "    <tr>\n",
              "      <th>2001-01-02</th>\n",
              "      <td>Status quo will not be disturbed at Ayodhya; s...</td>\n",
              "    </tr>\n",
              "    <tr>\n",
              "      <th>2001-01-03</th>\n",
              "      <td>Powerless north India gropes in the dark Think...</td>\n",
              "    </tr>\n",
              "    <tr>\n",
              "      <th>2001-01-04</th>\n",
              "      <td>The string that pulled Stephen Hawking to Indi...</td>\n",
              "    </tr>\n",
              "    <tr>\n",
              "      <th>2001-01-05</th>\n",
              "      <td>Light combat craft takes India into club class...</td>\n",
              "    </tr>\n",
              "    <tr>\n",
              "      <th>2001-01-06</th>\n",
              "      <td>Light combat craft takes India into club class...</td>\n",
              "    </tr>\n",
              "    <tr>\n",
              "      <th>2001-01-07</th>\n",
              "      <td>Muslim body rules out talks on Ayodhya Bajrang...</td>\n",
              "    </tr>\n",
              "    <tr>\n",
              "      <th>2001-01-08</th>\n",
              "      <td>Sangh Parivar; Babri panel up the ante Frontru...</td>\n",
              "    </tr>\n",
              "    <tr>\n",
              "      <th>2001-01-09</th>\n",
              "      <td>Financier Bharat Shah held for alleged links w...</td>\n",
              "    </tr>\n",
              "    <tr>\n",
              "      <th>2001-01-10</th>\n",
              "      <td>Fend for yourselves; Pande tells doctors Burea...</td>\n",
              "    </tr>\n",
              "    <tr>\n",
              "      <th>2001-01-23</th>\n",
              "      <td>Sonia takes on the Hindutva brigade Congress h...</td>\n",
              "    </tr>\n",
              "    <tr>\n",
              "      <th>2001-01-24</th>\n",
              "      <td>Govt extends J&amp;K ceasefire by a month Peace hi...</td>\n",
              "    </tr>\n",
              "  </tbody>\n",
              "</table>\n",
              "</div>"
            ],
            "text/plain": [
              "                                                headline_text\n",
              "date                                                         \n",
              "2001-01-02  Status quo will not be disturbed at Ayodhya; s...\n",
              "2001-01-03  Powerless north India gropes in the dark Think...\n",
              "2001-01-04  The string that pulled Stephen Hawking to Indi...\n",
              "2001-01-05  Light combat craft takes India into club class...\n",
              "2001-01-06  Light combat craft takes India into club class...\n",
              "2001-01-07  Muslim body rules out talks on Ayodhya Bajrang...\n",
              "2001-01-08  Sangh Parivar; Babri panel up the ante Frontru...\n",
              "2001-01-09  Financier Bharat Shah held for alleged links w...\n",
              "2001-01-10  Fend for yourselves; Pande tells doctors Burea...\n",
              "2001-01-23  Sonia takes on the Hindutva brigade Congress h...\n",
              "2001-01-24  Govt extends J&K ceasefire by a month Peace hi..."
            ]
          },
          "metadata": {},
          "execution_count": 42
        }
      ]
    },
    {
      "cell_type": "code",
      "metadata": {
        "colab": {
          "base_uri": "https://localhost:8080/"
        },
        "id": "CejbhsDSQmca",
        "outputId": "a4f2c42a-94b2-4d43-cd0f-6e2d3c112141"
      },
      "source": [
        "import string\n",
        "from nltk.stem import WordNetLemmatizer\n",
        "from nltk.tokenize import word_tokenize\n",
        "import nltk\n",
        "nltk.download('punkt')\n",
        "nltk.download('wordnet')"
      ],
      "execution_count": null,
      "outputs": [
        {
          "output_type": "stream",
          "name": "stdout",
          "text": [
            "[nltk_data] Downloading package punkt to /root/nltk_data...\n",
            "[nltk_data]   Package punkt is already up-to-date!\n",
            "[nltk_data] Downloading package wordnet to /root/nltk_data...\n",
            "[nltk_data]   Package wordnet is already up-to-date!\n"
          ]
        },
        {
          "output_type": "execute_result",
          "data": {
            "text/plain": [
              "True"
            ]
          },
          "metadata": {},
          "execution_count": 43
        }
      ]
    },
    {
      "cell_type": "code",
      "metadata": {
        "id": "be5s_L9NqOqa"
      },
      "source": [
        "# Cleaning text\n",
        "stopwords_english =  stopwords.words('english')\n",
        "lemmatizer = WordNetLemmatizer()\n",
        "\n",
        "def clean_data(text):\n",
        "    text_clean = []\n",
        "    text_tokens = word_tokenize(text)\n",
        "    #text_tokens = tokenizer.tokenize(text)    \n",
        "    for word in text_tokens:\n",
        "        if (word not in stopwords_english and # remove stopwords\n",
        "                word not in string.punctuation): # remove punctuation\n",
        "            #tweets_clean.append(word)\n",
        "            stem_word = lemmatizer.lemmatize(word) # stemming word\n",
        "            text_clean.append(stem_word)\n",
        "    \n",
        "    list_to_str = ' '.join([str(ele) for ele in text_clean])\n",
        "    return list_to_str.lower()"
      ],
      "execution_count": null,
      "outputs": []
    },
    {
      "cell_type": "code",
      "metadata": {
        "colab": {
          "base_uri": "https://localhost:8080/",
          "height": 418
        },
        "id": "kOnzkTNvQ0dk",
        "outputId": "189bb378-20fc-49f1-be71-b2269ec7877a"
      },
      "source": [
        "news_df['headline_text'] = news_df['headline_text'].apply(clean_data)\n",
        "news_df[:11]"
      ],
      "execution_count": null,
      "outputs": [
        {
          "output_type": "execute_result",
          "data": {
            "text/html": [
              "<div>\n",
              "<style scoped>\n",
              "    .dataframe tbody tr th:only-of-type {\n",
              "        vertical-align: middle;\n",
              "    }\n",
              "\n",
              "    .dataframe tbody tr th {\n",
              "        vertical-align: top;\n",
              "    }\n",
              "\n",
              "    .dataframe thead th {\n",
              "        text-align: right;\n",
              "    }\n",
              "</style>\n",
              "<table border=\"1\" class=\"dataframe\">\n",
              "  <thead>\n",
              "    <tr style=\"text-align: right;\">\n",
              "      <th></th>\n",
              "      <th>headline_text</th>\n",
              "    </tr>\n",
              "    <tr>\n",
              "      <th>date</th>\n",
              "      <th></th>\n",
              "    </tr>\n",
              "  </thead>\n",
              "  <tbody>\n",
              "    <tr>\n",
              "      <th>2001-01-02</th>\n",
              "      <td>status quo disturbed ayodhya say vajpayee fiss...</td>\n",
              "    </tr>\n",
              "    <tr>\n",
              "      <th>2001-01-03</th>\n",
              "      <td>powerless north india grope dark think laxman ...</td>\n",
              "    </tr>\n",
              "    <tr>\n",
              "      <th>2001-01-04</th>\n",
              "      <td>the string pulled stephen hawking india vajpay...</td>\n",
              "    </tr>\n",
              "    <tr>\n",
              "      <th>2001-01-05</th>\n",
              "      <td>light combat craft take india club class hawki...</td>\n",
              "    </tr>\n",
              "    <tr>\n",
              "      <th>2001-01-06</th>\n",
              "      <td>light combat craft take india club class hawki...</td>\n",
              "    </tr>\n",
              "    <tr>\n",
              "      <th>2001-01-07</th>\n",
              "      <td>muslim body rule talk ayodhya bajrang dal blow...</td>\n",
              "    </tr>\n",
              "    <tr>\n",
              "      <th>2001-01-08</th>\n",
              "      <td>sangh parivar babri panel ante frontrunner key...</td>\n",
              "    </tr>\n",
              "    <tr>\n",
              "      <th>2001-01-09</th>\n",
              "      <td>financier bharat shah held alleged link chotta...</td>\n",
              "    </tr>\n",
              "    <tr>\n",
              "      <th>2001-01-10</th>\n",
              "      <td>fend pande tell doctor bureaucracy undermining...</td>\n",
              "    </tr>\n",
              "    <tr>\n",
              "      <th>2001-01-23</th>\n",
              "      <td>sonia take hindutva brigade congress hope soar...</td>\n",
              "    </tr>\n",
              "    <tr>\n",
              "      <th>2001-01-24</th>\n",
              "      <td>govt extends j k ceasefire month peace hinge h...</td>\n",
              "    </tr>\n",
              "  </tbody>\n",
              "</table>\n",
              "</div>"
            ],
            "text/plain": [
              "                                                headline_text\n",
              "date                                                         \n",
              "2001-01-02  status quo disturbed ayodhya say vajpayee fiss...\n",
              "2001-01-03  powerless north india grope dark think laxman ...\n",
              "2001-01-04  the string pulled stephen hawking india vajpay...\n",
              "2001-01-05  light combat craft take india club class hawki...\n",
              "2001-01-06  light combat craft take india club class hawki...\n",
              "2001-01-07  muslim body rule talk ayodhya bajrang dal blow...\n",
              "2001-01-08  sangh parivar babri panel ante frontrunner key...\n",
              "2001-01-09  financier bharat shah held alleged link chotta...\n",
              "2001-01-10  fend pande tell doctor bureaucracy undermining...\n",
              "2001-01-23  sonia take hindutva brigade congress hope soar...\n",
              "2001-01-24  govt extends j k ceasefire month peace hinge h..."
            ]
          },
          "metadata": {},
          "execution_count": 45
        }
      ]
    },
    {
      "cell_type": "markdown",
      "metadata": {
        "id": "QlsnfNxqTOzg"
      },
      "source": [
        "# Data Visualization of BSE data"
      ]
    },
    {
      "cell_type": "markdown",
      "metadata": {
        "id": "9RYjeDtETVi0"
      },
      "source": [
        "## 1. Line plot of Closing price"
      ]
    },
    {
      "cell_type": "code",
      "metadata": {
        "colab": {
          "base_uri": "https://localhost:8080/",
          "height": 596
        },
        "id": "NVfNFMByK8DU",
        "outputId": "76dbf61b-7394-40af-c120-bc1ac1a229e3"
      },
      "source": [
        "stock_df['Close'].plot(figsize = (20,10), color = 'cyan')\n",
        "plt.title('Line plot for Closed price')"
      ],
      "execution_count": null,
      "outputs": [
        {
          "output_type": "execute_result",
          "data": {
            "text/plain": [
              "Text(0.5, 1.0, 'Line plot for Closed price')"
            ]
          },
          "metadata": {},
          "execution_count": 46
        },
        {
          "output_type": "display_data",
          "data": {
            "image/png": "[encoded data removed]",
            "text/plain": [
              "<Figure size 1440x720 with 1 Axes>"
            ]
          },
          "metadata": {
            "needs_background": "light"
          }
        }
      ]
    },
    {
      "cell_type": "markdown",
      "metadata": {
        "id": "4uni_PV6UrfU"
      },
      "source": [
        "## 2. Distribution of Closing Price"
      ]
    },
    {
      "cell_type": "code",
      "metadata": {
        "id": "3HKeFnFgK76n",
        "colab": {
          "base_uri": "https://localhost:8080/",
          "height": 530
        },
        "outputId": "dee9a6e9-d408-4949-bd24-9f8d39f94832"
      },
      "source": [
        "plt.figure(figsize = (13,8))\n",
        "sns.distplot(stock_df['Close'], color = 'orange')\n",
        "plt.title('Distribution plot for Closing price')"
      ],
      "execution_count": null,
      "outputs": [
        {
          "output_type": "execute_result",
          "data": {
            "text/plain": [
              "Text(0.5, 1.0, 'Distribution plot for Closing price')"
            ]
          },
          "metadata": {},
          "execution_count": 47
        },
        {
          "output_type": "display_data",
          "data": {
            "image/png": "[encoded data removed]",
            "text/plain": [
              "<Figure size 936x576 with 1 Axes>"
            ]
          },
          "metadata": {
            "needs_background": "light"
          }
        }
      ]
    },
    {
      "cell_type": "markdown",
      "metadata": {
        "id": "dsT3oH-CVBFd"
      },
      "source": [
        "## 3. Lag plot"
      ]
    },
    {
      "cell_type": "code",
      "metadata": {
        "colab": {
          "base_uri": "https://localhost:8080/",
          "height": 513
        },
        "id": "Bzbx4A9dK73K",
        "outputId": "285553bf-36e8-4c40-ac6d-73d3d8437f70"
      },
      "source": [
        "plt.figure(figsize=(13,8))\n",
        "lag_plot(stock_df.iloc[4800:5000])\n",
        "ax = plt.axes()\n",
        "plt.title('Lag plot of Closing price for a few records')\n",
        "plt.show()"
      ],
      "execution_count": null,
      "outputs": [
        {
          "output_type": "display_data",
          "data": {
            "image/png": "[encoded data removed]",
            "text/plain": [
              "<Figure size 936x576 with 1 Axes>"
            ]
          },
          "metadata": {
            "needs_background": "light"
          }
        }
      ]
    },
    {
      "cell_type": "markdown",
      "metadata": {
        "id": "dP4V5sf9VqsM"
      },
      "source": [
        "## 4. ACF and PACF plots"
      ]
    },
    {
      "cell_type": "code",
      "metadata": {
        "id": "PNAPb6vrK70T",
        "colab": {
          "base_uri": "https://localhost:8080/",
          "height": 281
        },
        "outputId": "feea8379-d7dc-4276-9425-1f6fc37b18e2"
      },
      "source": [
        "tsa_plots.plot_acf(stock_df.Close,lags=12)\n",
        "plt.show()"
      ],
      "execution_count": null,
      "outputs": [
        {
          "output_type": "display_data",
          "data": {
            "image/png": "[encoded data removed]",
            "text/plain": [
              "<Figure size 432x288 with 1 Axes>"
            ]
          },
          "metadata": {
            "needs_background": "light"
          }
        }
      ]
    },
    {
      "cell_type": "code",
      "metadata": {
        "colab": {
          "base_uri": "https://localhost:8080/",
          "height": 281
        },
        "id": "QciGD40KK7xl",
        "outputId": "e818d0c7-3376-43a6-d20f-28d0aaa91f81"
      },
      "source": [
        "tsa_plots.plot_pacf(stock_df.Close,lags=12)\n",
        "plt.show()"
      ],
      "execution_count": null,
      "outputs": [
        {
          "output_type": "display_data",
          "data": {
            "image/png": "[encoded data removed]",
            "text/plain": [
              "<Figure size 432x288 with 1 Axes>"
            ]
          },
          "metadata": {
            "needs_background": "light"
          }
        }
      ]
    },
    {
      "cell_type": "markdown",
      "metadata": {
        "id": "C1NrvjjAWL84"
      },
      "source": [
        "## 5. Decomposition of Closing price"
      ]
    },
    {
      "cell_type": "code",
      "metadata": {
        "colab": {
          "base_uri": "https://localhost:8080/",
          "height": 298
        },
        "id": "W_1xz3NjK7vB",
        "outputId": "673be83e-43b7-4889-d6d3-2bff882bc7f2"
      },
      "source": [
        "decompose_ts = seasonal_decompose(stock_df.iloc[-1000:-1],freq = 12)\n",
        "decompose_ts.plot()\n",
        "plt.show()"
      ],
      "execution_count": null,
      "outputs": [
        {
          "output_type": "display_data",
          "data": {
            "image/png": "[encoded data removed]",
            "text/plain": [
              "<Figure size 432x288 with 4 Axes>"
            ]
          },
          "metadata": {
            "needs_background": "light"
          }
        }
      ]
    },
    {
      "cell_type": "markdown",
      "metadata": {
        "id": "oO6FfEI6Wt4_"
      },
      "source": [
        "#### Multiplicative trend and Additive Seasonality can be observed"
      ]
    },
    {
      "cell_type": "markdown",
      "metadata": {
        "id": "rOeJ2_Z0Xsnc"
      },
      "source": [
        "## 6. Plotting Moving Average"
      ]
    },
    {
      "cell_type": "code",
      "metadata": {
        "colab": {
          "base_uri": "https://localhost:8080/",
          "height": 490
        },
        "id": "wziaged4K7sN",
        "outputId": "96365ffc-51b7-493f-89a0-71c04a0624a8"
      },
      "source": [
        "close = stock_df['Close'][-1000:]\n",
        "ma = close.rolling(window = 50).mean()\n",
        "\n",
        "plt.figure(figsize=(13,8))\n",
        "close.plot(color = 'cyan', label = 'Close')\n",
        "ma.plot(color = 'r', label = 'Rolling Mean')\n",
        "plt.legend()"
      ],
      "execution_count": null,
      "outputs": [
        {
          "output_type": "execute_result",
          "data": {
            "text/plain": [
              "<matplotlib.legend.Legend at 0x7f818fa72210>"
            ]
          },
          "metadata": {},
          "execution_count": 57
        },
        {
          "output_type": "display_data",
          "data": {
            "image/png": "[encoded data removed]",
            "text/plain": [
              "<Figure size 936x576 with 1 Axes>"
            ]
          },
          "metadata": {
            "needs_background": "light"
          }
        }
      ]
    },
    {
      "cell_type": "markdown",
      "metadata": {
        "id": "-Hh8vDFGYYGC"
      },
      "source": [
        "## 7. Returns"
      ]
    },
    {
      "cell_type": "code",
      "metadata": {
        "colab": {
          "base_uri": "https://localhost:8080/",
          "height": 506
        },
        "id": "gRIwG8UKK7pl",
        "outputId": "755dffea-5d8c-425f-9456-04c7aa8749c9"
      },
      "source": [
        "returns = close / close.shift(1) - 1\n",
        "\n",
        "plt.figure(figsize = (13,8))\n",
        "returns.plot(label='Return', color = 'pink')\n",
        "plt.title(\"Returns\")"
      ],
      "execution_count": null,
      "outputs": [
        {
          "output_type": "execute_result",
          "data": {
            "text/plain": [
              "Text(0.5, 1.0, 'Returns')"
            ]
          },
          "metadata": {},
          "execution_count": 58
        },
        {
          "output_type": "display_data",
          "data": {
            "image/png": "[encoded data removed]",
            "text/plain": [
              "<Figure size 936x576 with 1 Axes>"
            ]
          },
          "metadata": {
            "needs_background": "light"
          }
        }
      ]
    },
    {
      "cell_type": "code",
      "metadata": {
        "id": "bsdZidUuK7mu"
      },
      "source": [
        "close = pd.DataFrame(stock_df['Close'], index = stock_df.index , columns = ['Close'])\n",
        "returns = close / close.shift(1) - 1\n",
        "close['returns'] = returns\n",
        "temp = close.sort_values(['returns'], ascending=[False])\n",
        "plt.figure(figsize = (20,8))\n",
        "sns.barplot(x = temp[:11].index , y = temp[:11].returns)\n",
        "plt.title('Top 10 days with highest returns')"
      ],
      "execution_count": null,
      "outputs": []
    },
    {
      "cell_type": "markdown",
      "metadata": {
        "id": "BDrRQqjHcT4F"
      },
      "source": [
        "#### Highest returns on 18-05-2009"
      ]
    },
    {
      "cell_type": "markdown",
      "metadata": {
        "id": "sMRQnXAMpi-M"
      },
      "source": [
        "# Data Pre-Processing"
      ]
    },
    {
      "cell_type": "markdown",
      "metadata": {
        "id": "nnbLpNcEppI2"
      },
      "source": [
        "## 1. BSE data"
      ]
    },
    {
      "cell_type": "markdown",
      "metadata": {
        "id": "x1XgkSeeprdg"
      },
      "source": [
        "### Data Scaling"
      ]
    },
    {
      "cell_type": "code",
      "metadata": {
        "id": "eFd_xLGBK7QE"
      },
      "source": [
        "scaler = MinMaxScaler(feature_range=(0,1))"
      ],
      "execution_count": null,
      "outputs": []
    },
    {
      "cell_type": "code",
      "metadata": {
        "colab": {
          "base_uri": "https://localhost:8080/",
          "height": 265
        },
        "id": "_MrbDyLvK7Nd",
        "outputId": "5e17e536-b255-42ab-d3cf-fdc2596fea12"
      },
      "source": [
        "stock_df['Close'] = scaler.fit_transform(np.array(stock_df['Close']).reshape(-1,1))\n",
        "stock_df[:6]"
      ],
      "execution_count": null,
      "outputs": [
        {
          "output_type": "execute_result",
          "data": {
            "text/html": [
              "<div>\n",
              "<style scoped>\n",
              "    .dataframe tbody tr th:only-of-type {\n",
              "        vertical-align: middle;\n",
              "    }\n",
              "\n",
              "    .dataframe tbody tr th {\n",
              "        vertical-align: top;\n",
              "    }\n",
              "\n",
              "    .dataframe thead th {\n",
              "        text-align: right;\n",
              "    }\n",
              "</style>\n",
              "<table border=\"1\" class=\"dataframe\">\n",
              "  <thead>\n",
              "    <tr style=\"text-align: right;\">\n",
              "      <th></th>\n",
              "      <th>Close</th>\n",
              "    </tr>\n",
              "    <tr>\n",
              "      <th>Date</th>\n",
              "      <th></th>\n",
              "    </tr>\n",
              "  </thead>\n",
              "  <tbody>\n",
              "    <tr>\n",
              "      <th>2001-01-02</th>\n",
              "      <td>0.024684</td>\n",
              "    </tr>\n",
              "    <tr>\n",
              "      <th>2001-01-03</th>\n",
              "      <td>0.025399</td>\n",
              "    </tr>\n",
              "    <tr>\n",
              "      <th>2001-01-04</th>\n",
              "      <td>0.026362</td>\n",
              "    </tr>\n",
              "    <tr>\n",
              "      <th>2001-01-05</th>\n",
              "      <td>0.027552</td>\n",
              "    </tr>\n",
              "    <tr>\n",
              "      <th>2001-01-08</th>\n",
              "      <td>0.026450</td>\n",
              "    </tr>\n",
              "    <tr>\n",
              "      <th>2001-01-09</th>\n",
              "      <td>0.026535</td>\n",
              "    </tr>\n",
              "  </tbody>\n",
              "</table>\n",
              "</div>"
            ],
            "text/plain": [
              "               Close\n",
              "Date                \n",
              "2001-01-02  0.024684\n",
              "2001-01-03  0.025399\n",
              "2001-01-04  0.026362\n",
              "2001-01-05  0.027552\n",
              "2001-01-08  0.026450\n",
              "2001-01-09  0.026535"
            ]
          },
          "metadata": {},
          "execution_count": 60
        }
      ]
    },
    {
      "cell_type": "markdown",
      "metadata": {
        "id": "gmNVwBwMUxEu"
      },
      "source": [
        "## 2. News headlines data"
      ]
    },
    {
      "cell_type": "markdown",
      "metadata": {
        "id": "YmW0M9fxU5en"
      },
      "source": [
        "### Sentiment analysis"
      ]
    },
    {
      "cell_type": "code",
      "metadata": {
        "colab": {
          "base_uri": "https://localhost:8080/"
        },
        "id": "ZDX6U5e8K7Kt",
        "outputId": "79b82019-4cbe-4cd8-a5a1-4cec511c43a4"
      },
      "source": [
        "nltk.download('vader_lexicon')\n",
        "from textblob import TextBlob"
      ],
      "execution_count": null,
      "outputs": [
        {
          "output_type": "stream",
          "name": "stdout",
          "text": [
            "[nltk_data] Downloading package vader_lexicon to /root/nltk_data...\n",
            "[nltk_data]   Package vader_lexicon is already up-to-date!\n"
          ]
        }
      ]
    },
    {
      "cell_type": "code",
      "metadata": {
        "id": "_rE_dbYpK7H6"
      },
      "source": [
        "sia = SentimentIntensityAnalyzer()"
      ],
      "execution_count": null,
      "outputs": []
    },
    {
      "cell_type": "code",
      "metadata": {
        "id": "IBwz1CcKK7FG"
      },
      "source": [
        "# Functions to get the subjectivity and polarity\n",
        "def getSubjectivity(text):\n",
        "  return TextBlob(text).sentiment.subjectivity\n",
        "\n",
        "def getPolarity(text):\n",
        "  return  TextBlob(text).sentiment.polarity"
      ],
      "execution_count": null,
      "outputs": []
    },
    {
      "cell_type": "code",
      "metadata": {
        "colab": {
          "base_uri": "https://localhost:8080/",
          "height": 418
        },
        "id": "MdgQ7axnK653",
        "outputId": "23a61c9c-1f57-4238-d9e0-69907599cb9a"
      },
      "source": [
        "# Sentiment analysis\n",
        "news_df['Subjectivity'] = news_df['headline_text'].apply(getSubjectivity)\n",
        "news_df['Polarity'] = news_df['headline_text'].apply(getPolarity)\n",
        "news_df['Compound'] = [sia.polarity_scores(v)['compound'] for v in news_df['headline_text']]\n",
        "news_df['Negative'] = [sia.polarity_scores(v)['neg'] for v in news_df['headline_text']]\n",
        "news_df['Neutral'] = [sia.polarity_scores(v)['neu'] for v in news_df['headline_text']]\n",
        "news_df['Positive'] = [sia.polarity_scores(v)['pos'] for v in news_df['headline_text']]\n",
        "news_df[:11]"
      ],
      "execution_count": null,
      "outputs": [
        {
          "output_type": "execute_result",
          "data": {
            "text/html": [
              "<div>\n",
              "<style scoped>\n",
              "    .dataframe tbody tr th:only-of-type {\n",
              "        vertical-align: middle;\n",
              "    }\n",
              "\n",
              "    .dataframe tbody tr th {\n",
              "        vertical-align: top;\n",
              "    }\n",
              "\n",
              "    .dataframe thead th {\n",
              "        text-align: right;\n",
              "    }\n",
              "</style>\n",
              "<table border=\"1\" class=\"dataframe\">\n",
              "  <thead>\n",
              "    <tr style=\"text-align: right;\">\n",
              "      <th></th>\n",
              "      <th>headline_text</th>\n",
              "      <th>Subjectivity</th>\n",
              "      <th>Polarity</th>\n",
              "      <th>Compound</th>\n",
              "      <th>Negative</th>\n",
              "      <th>Neutral</th>\n",
              "      <th>Positive</th>\n",
              "    </tr>\n",
              "    <tr>\n",
              "      <th>date</th>\n",
              "      <th></th>\n",
              "      <th></th>\n",
              "      <th></th>\n",
              "      <th></th>\n",
              "      <th></th>\n",
              "      <th></th>\n",
              "      <th></th>\n",
              "    </tr>\n",
              "  </thead>\n",
              "  <tbody>\n",
              "    <tr>\n",
              "      <th>2001-01-02</th>\n",
              "      <td>status quo disturbed ayodhya say vajpayee fiss...</td>\n",
              "      <td>0.273264</td>\n",
              "      <td>0.136806</td>\n",
              "      <td>-0.9486</td>\n",
              "      <td>0.147</td>\n",
              "      <td>0.747</td>\n",
              "      <td>0.106</td>\n",
              "    </tr>\n",
              "    <tr>\n",
              "      <th>2001-01-03</th>\n",
              "      <td>powerless north india grope dark think laxman ...</td>\n",
              "      <td>0.458333</td>\n",
              "      <td>0.062500</td>\n",
              "      <td>0.2023</td>\n",
              "      <td>0.140</td>\n",
              "      <td>0.717</td>\n",
              "      <td>0.143</td>\n",
              "    </tr>\n",
              "    <tr>\n",
              "      <th>2001-01-04</th>\n",
              "      <td>the string pulled stephen hawking india vajpay...</td>\n",
              "      <td>0.449244</td>\n",
              "      <td>0.071931</td>\n",
              "      <td>0.5106</td>\n",
              "      <td>0.124</td>\n",
              "      <td>0.752</td>\n",
              "      <td>0.123</td>\n",
              "    </tr>\n",
              "    <tr>\n",
              "      <th>2001-01-05</th>\n",
              "      <td>light combat craft take india club class hawki...</td>\n",
              "      <td>0.477807</td>\n",
              "      <td>0.266578</td>\n",
              "      <td>0.9740</td>\n",
              "      <td>0.149</td>\n",
              "      <td>0.667</td>\n",
              "      <td>0.183</td>\n",
              "    </tr>\n",
              "    <tr>\n",
              "      <th>2001-01-06</th>\n",
              "      <td>light combat craft take india club class hawki...</td>\n",
              "      <td>0.439394</td>\n",
              "      <td>0.248485</td>\n",
              "      <td>-0.4215</td>\n",
              "      <td>0.166</td>\n",
              "      <td>0.678</td>\n",
              "      <td>0.156</td>\n",
              "    </tr>\n",
              "    <tr>\n",
              "      <th>2001-01-07</th>\n",
              "      <td>muslim body rule talk ayodhya bajrang dal blow...</td>\n",
              "      <td>0.375748</td>\n",
              "      <td>-0.058139</td>\n",
              "      <td>-0.9944</td>\n",
              "      <td>0.161</td>\n",
              "      <td>0.806</td>\n",
              "      <td>0.033</td>\n",
              "    </tr>\n",
              "    <tr>\n",
              "      <th>2001-01-08</th>\n",
              "      <td>sangh parivar babri panel ante frontrunner key...</td>\n",
              "      <td>0.411492</td>\n",
              "      <td>-0.038444</td>\n",
              "      <td>-0.9666</td>\n",
              "      <td>0.139</td>\n",
              "      <td>0.775</td>\n",
              "      <td>0.086</td>\n",
              "    </tr>\n",
              "    <tr>\n",
              "      <th>2001-01-09</th>\n",
              "      <td>financier bharat shah held alleged link chotta...</td>\n",
              "      <td>0.513554</td>\n",
              "      <td>-0.063411</td>\n",
              "      <td>-0.9947</td>\n",
              "      <td>0.167</td>\n",
              "      <td>0.768</td>\n",
              "      <td>0.064</td>\n",
              "    </tr>\n",
              "    <tr>\n",
              "      <th>2001-01-10</th>\n",
              "      <td>fend pande tell doctor bureaucracy undermining...</td>\n",
              "      <td>0.000000</td>\n",
              "      <td>0.000000</td>\n",
              "      <td>-0.7845</td>\n",
              "      <td>0.345</td>\n",
              "      <td>0.655</td>\n",
              "      <td>0.000</td>\n",
              "    </tr>\n",
              "    <tr>\n",
              "      <th>2001-01-23</th>\n",
              "      <td>sonia take hindutva brigade congress hope soar...</td>\n",
              "      <td>0.268245</td>\n",
              "      <td>0.070265</td>\n",
              "      <td>0.9228</td>\n",
              "      <td>0.060</td>\n",
              "      <td>0.828</td>\n",
              "      <td>0.113</td>\n",
              "    </tr>\n",
              "    <tr>\n",
              "      <th>2001-01-24</th>\n",
              "      <td>govt extends j k ceasefire month peace hinge h...</td>\n",
              "      <td>0.244286</td>\n",
              "      <td>0.080952</td>\n",
              "      <td>0.2263</td>\n",
              "      <td>0.138</td>\n",
              "      <td>0.716</td>\n",
              "      <td>0.146</td>\n",
              "    </tr>\n",
              "  </tbody>\n",
              "</table>\n",
              "</div>"
            ],
            "text/plain": [
              "                                                headline_text  ...  Positive\n",
              "date                                                           ...          \n",
              "2001-01-02  status quo disturbed ayodhya say vajpayee fiss...  ...     0.106\n",
              "2001-01-03  powerless north india grope dark think laxman ...  ...     0.143\n",
              "2001-01-04  the string pulled stephen hawking india vajpay...  ...     0.123\n",
              "2001-01-05  light combat craft take india club class hawki...  ...     0.183\n",
              "2001-01-06  light combat craft take india club class hawki...  ...     0.156\n",
              "2001-01-07  muslim body rule talk ayodhya bajrang dal blow...  ...     0.033\n",
              "2001-01-08  sangh parivar babri panel ante frontrunner key...  ...     0.086\n",
              "2001-01-09  financier bharat shah held alleged link chotta...  ...     0.064\n",
              "2001-01-10  fend pande tell doctor bureaucracy undermining...  ...     0.000\n",
              "2001-01-23  sonia take hindutva brigade congress hope soar...  ...     0.113\n",
              "2001-01-24  govt extends j k ceasefire month peace hinge h...  ...     0.146\n",
              "\n",
              "[11 rows x 7 columns]"
            ]
          },
          "metadata": {},
          "execution_count": 64
        }
      ]
    },
    {
      "cell_type": "markdown",
      "metadata": {
        "id": "7UOh0dAF1Yl-"
      },
      "source": [
        "# 3. Merging BSE and News headlines data"
      ]
    },
    {
      "cell_type": "code",
      "metadata": {
        "id": "4vlG_hh708Wj"
      },
      "source": [
        "news_df.insert(loc = 0, column = 'key', value = news_df.index)\n",
        "stock_df.insert(loc = 0, column = 'key', value = stock_df.index)"
      ],
      "execution_count": null,
      "outputs": []
    },
    {
      "cell_type": "code",
      "metadata": {
        "colab": {
          "base_uri": "https://localhost:8080/",
          "height": 357
        },
        "id": "mpq7-KsF2cnP",
        "outputId": "64e22d04-6456-47fd-a01f-b5328a916e12"
      },
      "source": [
        "df = pd.merge(stock_df, news_df, how='inner', on='key')\n",
        "df.head(10)"
      ],
      "execution_count": null,
      "outputs": [
        {
          "output_type": "execute_result",
          "data": {
            "text/html": [
              "<div>\n",
              "<style scoped>\n",
              "    .dataframe tbody tr th:only-of-type {\n",
              "        vertical-align: middle;\n",
              "    }\n",
              "\n",
              "    .dataframe tbody tr th {\n",
              "        vertical-align: top;\n",
              "    }\n",
              "\n",
              "    .dataframe thead th {\n",
              "        text-align: right;\n",
              "    }\n",
              "</style>\n",
              "<table border=\"1\" class=\"dataframe\">\n",
              "  <thead>\n",
              "    <tr style=\"text-align: right;\">\n",
              "      <th></th>\n",
              "      <th>key</th>\n",
              "      <th>Close</th>\n",
              "      <th>headline_text</th>\n",
              "      <th>Subjectivity</th>\n",
              "      <th>Polarity</th>\n",
              "      <th>Compound</th>\n",
              "      <th>Negative</th>\n",
              "      <th>Neutral</th>\n",
              "      <th>Positive</th>\n",
              "    </tr>\n",
              "  </thead>\n",
              "  <tbody>\n",
              "    <tr>\n",
              "      <th>0</th>\n",
              "      <td>2001-01-02</td>\n",
              "      <td>0.024684</td>\n",
              "      <td>status quo disturbed ayodhya say vajpayee fiss...</td>\n",
              "      <td>0.273264</td>\n",
              "      <td>0.136806</td>\n",
              "      <td>-0.9486</td>\n",
              "      <td>0.147</td>\n",
              "      <td>0.747</td>\n",
              "      <td>0.106</td>\n",
              "    </tr>\n",
              "    <tr>\n",
              "      <th>1</th>\n",
              "      <td>2001-01-03</td>\n",
              "      <td>0.025399</td>\n",
              "      <td>powerless north india grope dark think laxman ...</td>\n",
              "      <td>0.458333</td>\n",
              "      <td>0.062500</td>\n",
              "      <td>0.2023</td>\n",
              "      <td>0.140</td>\n",
              "      <td>0.717</td>\n",
              "      <td>0.143</td>\n",
              "    </tr>\n",
              "    <tr>\n",
              "      <th>2</th>\n",
              "      <td>2001-01-04</td>\n",
              "      <td>0.026362</td>\n",
              "      <td>the string pulled stephen hawking india vajpay...</td>\n",
              "      <td>0.449244</td>\n",
              "      <td>0.071931</td>\n",
              "      <td>0.5106</td>\n",
              "      <td>0.124</td>\n",
              "      <td>0.752</td>\n",
              "      <td>0.123</td>\n",
              "    </tr>\n",
              "    <tr>\n",
              "      <th>3</th>\n",
              "      <td>2001-01-05</td>\n",
              "      <td>0.027552</td>\n",
              "      <td>light combat craft take india club class hawki...</td>\n",
              "      <td>0.477807</td>\n",
              "      <td>0.266578</td>\n",
              "      <td>0.9740</td>\n",
              "      <td>0.149</td>\n",
              "      <td>0.667</td>\n",
              "      <td>0.183</td>\n",
              "    </tr>\n",
              "    <tr>\n",
              "      <th>4</th>\n",
              "      <td>2001-01-08</td>\n",
              "      <td>0.026450</td>\n",
              "      <td>sangh parivar babri panel ante frontrunner key...</td>\n",
              "      <td>0.411492</td>\n",
              "      <td>-0.038444</td>\n",
              "      <td>-0.9666</td>\n",
              "      <td>0.139</td>\n",
              "      <td>0.775</td>\n",
              "      <td>0.086</td>\n",
              "    </tr>\n",
              "    <tr>\n",
              "      <th>5</th>\n",
              "      <td>2001-01-09</td>\n",
              "      <td>0.026535</td>\n",
              "      <td>financier bharat shah held alleged link chotta...</td>\n",
              "      <td>0.513554</td>\n",
              "      <td>-0.063411</td>\n",
              "      <td>-0.9947</td>\n",
              "      <td>0.167</td>\n",
              "      <td>0.768</td>\n",
              "      <td>0.064</td>\n",
              "    </tr>\n",
              "    <tr>\n",
              "      <th>6</th>\n",
              "      <td>2001-01-10</td>\n",
              "      <td>0.025184</td>\n",
              "      <td>fend pande tell doctor bureaucracy undermining...</td>\n",
              "      <td>0.000000</td>\n",
              "      <td>0.000000</td>\n",
              "      <td>-0.7845</td>\n",
              "      <td>0.345</td>\n",
              "      <td>0.655</td>\n",
              "      <td>0.000</td>\n",
              "    </tr>\n",
              "    <tr>\n",
              "      <th>7</th>\n",
              "      <td>2001-01-23</td>\n",
              "      <td>0.029517</td>\n",
              "      <td>sonia take hindutva brigade congress hope soar...</td>\n",
              "      <td>0.268245</td>\n",
              "      <td>0.070265</td>\n",
              "      <td>0.9228</td>\n",
              "      <td>0.060</td>\n",
              "      <td>0.828</td>\n",
              "      <td>0.113</td>\n",
              "    </tr>\n",
              "    <tr>\n",
              "      <th>8</th>\n",
              "      <td>2001-01-24</td>\n",
              "      <td>0.030034</td>\n",
              "      <td>govt extends j k ceasefire month peace hinge h...</td>\n",
              "      <td>0.244286</td>\n",
              "      <td>0.080952</td>\n",
              "      <td>0.2263</td>\n",
              "      <td>0.138</td>\n",
              "      <td>0.716</td>\n",
              "      <td>0.146</td>\n",
              "    </tr>\n",
              "    <tr>\n",
              "      <th>9</th>\n",
              "      <td>2001-01-25</td>\n",
              "      <td>0.030100</td>\n",
              "      <td>big bath pass without hitch security bandobast...</td>\n",
              "      <td>0.453185</td>\n",
              "      <td>0.029029</td>\n",
              "      <td>-0.9887</td>\n",
              "      <td>0.178</td>\n",
              "      <td>0.726</td>\n",
              "      <td>0.096</td>\n",
              "    </tr>\n",
              "  </tbody>\n",
              "</table>\n",
              "</div>"
            ],
            "text/plain": [
              "         key     Close  ... Neutral  Positive\n",
              "0 2001-01-02  0.024684  ...   0.747     0.106\n",
              "1 2001-01-03  0.025399  ...   0.717     0.143\n",
              "2 2001-01-04  0.026362  ...   0.752     0.123\n",
              "3 2001-01-05  0.027552  ...   0.667     0.183\n",
              "4 2001-01-08  0.026450  ...   0.775     0.086\n",
              "5 2001-01-09  0.026535  ...   0.768     0.064\n",
              "6 2001-01-10  0.025184  ...   0.655     0.000\n",
              "7 2001-01-23  0.029517  ...   0.828     0.113\n",
              "8 2001-01-24  0.030034  ...   0.716     0.146\n",
              "9 2001-01-25  0.030100  ...   0.726     0.096\n",
              "\n",
              "[10 rows x 9 columns]"
            ]
          },
          "metadata": {},
          "execution_count": 66
        }
      ]
    },
    {
      "cell_type": "code",
      "metadata": {
        "id": "Y4Dj5URXxXII"
      },
      "source": [
        "#df.to_csv('MergedData.csv')"
      ],
      "execution_count": null,
      "outputs": []
    },
    {
      "cell_type": "code",
      "metadata": {
        "id": "MtAyIZDx4E5Z"
      },
      "source": [
        "df['key'] = pd.to_datetime(df['key'])\n",
        "df.set_index('key',inplace=True)"
      ],
      "execution_count": null,
      "outputs": []
    },
    {
      "cell_type": "markdown",
      "metadata": {
        "id": "Y0jouiGu30Bu"
      },
      "source": [
        "## Feature selection"
      ]
    },
    {
      "cell_type": "code",
      "metadata": {
        "colab": {
          "base_uri": "https://localhost:8080/",
          "height": 234
        },
        "id": "8vgolCCH3o7l",
        "outputId": "9ad142bc-25c5-42a3-91bd-c8455b572150"
      },
      "source": [
        "df.head()"
      ],
      "execution_count": null,
      "outputs": [
        {
          "output_type": "execute_result",
          "data": {
            "text/html": [
              "<div>\n",
              "<style scoped>\n",
              "    .dataframe tbody tr th:only-of-type {\n",
              "        vertical-align: middle;\n",
              "    }\n",
              "\n",
              "    .dataframe tbody tr th {\n",
              "        vertical-align: top;\n",
              "    }\n",
              "\n",
              "    .dataframe thead th {\n",
              "        text-align: right;\n",
              "    }\n",
              "</style>\n",
              "<table border=\"1\" class=\"dataframe\">\n",
              "  <thead>\n",
              "    <tr style=\"text-align: right;\">\n",
              "      <th></th>\n",
              "      <th>Close</th>\n",
              "      <th>headline_text</th>\n",
              "      <th>Subjectivity</th>\n",
              "      <th>Polarity</th>\n",
              "      <th>Compound</th>\n",
              "      <th>Negative</th>\n",
              "      <th>Neutral</th>\n",
              "      <th>Positive</th>\n",
              "    </tr>\n",
              "    <tr>\n",
              "      <th>key</th>\n",
              "      <th></th>\n",
              "      <th></th>\n",
              "      <th></th>\n",
              "      <th></th>\n",
              "      <th></th>\n",
              "      <th></th>\n",
              "      <th></th>\n",
              "      <th></th>\n",
              "    </tr>\n",
              "  </thead>\n",
              "  <tbody>\n",
              "    <tr>\n",
              "      <th>2001-01-02</th>\n",
              "      <td>0.024684</td>\n",
              "      <td>status quo disturbed ayodhya say vajpayee fiss...</td>\n",
              "      <td>0.273264</td>\n",
              "      <td>0.136806</td>\n",
              "      <td>-0.9486</td>\n",
              "      <td>0.147</td>\n",
              "      <td>0.747</td>\n",
              "      <td>0.106</td>\n",
              "    </tr>\n",
              "    <tr>\n",
              "      <th>2001-01-03</th>\n",
              "      <td>0.025399</td>\n",
              "      <td>powerless north india grope dark think laxman ...</td>\n",
              "      <td>0.458333</td>\n",
              "      <td>0.062500</td>\n",
              "      <td>0.2023</td>\n",
              "      <td>0.140</td>\n",
              "      <td>0.717</td>\n",
              "      <td>0.143</td>\n",
              "    </tr>\n",
              "    <tr>\n",
              "      <th>2001-01-04</th>\n",
              "      <td>0.026362</td>\n",
              "      <td>the string pulled stephen hawking india vajpay...</td>\n",
              "      <td>0.449244</td>\n",
              "      <td>0.071931</td>\n",
              "      <td>0.5106</td>\n",
              "      <td>0.124</td>\n",
              "      <td>0.752</td>\n",
              "      <td>0.123</td>\n",
              "    </tr>\n",
              "    <tr>\n",
              "      <th>2001-01-05</th>\n",
              "      <td>0.027552</td>\n",
              "      <td>light combat craft take india club class hawki...</td>\n",
              "      <td>0.477807</td>\n",
              "      <td>0.266578</td>\n",
              "      <td>0.9740</td>\n",
              "      <td>0.149</td>\n",
              "      <td>0.667</td>\n",
              "      <td>0.183</td>\n",
              "    </tr>\n",
              "    <tr>\n",
              "      <th>2001-01-08</th>\n",
              "      <td>0.026450</td>\n",
              "      <td>sangh parivar babri panel ante frontrunner key...</td>\n",
              "      <td>0.411492</td>\n",
              "      <td>-0.038444</td>\n",
              "      <td>-0.9666</td>\n",
              "      <td>0.139</td>\n",
              "      <td>0.775</td>\n",
              "      <td>0.086</td>\n",
              "    </tr>\n",
              "  </tbody>\n",
              "</table>\n",
              "</div>"
            ],
            "text/plain": [
              "               Close  ... Positive\n",
              "key                   ...         \n",
              "2001-01-02  0.024684  ...    0.106\n",
              "2001-01-03  0.025399  ...    0.143\n",
              "2001-01-04  0.026362  ...    0.123\n",
              "2001-01-05  0.027552  ...    0.183\n",
              "2001-01-08  0.026450  ...    0.086\n",
              "\n",
              "[5 rows x 8 columns]"
            ]
          },
          "metadata": {},
          "execution_count": 70
        }
      ]
    },
    {
      "cell_type": "code",
      "metadata": {
        "id": "C03RNfS04R-j"
      },
      "source": [
        "data = df.copy()"
      ],
      "execution_count": null,
      "outputs": []
    },
    {
      "cell_type": "code",
      "metadata": {
        "colab": {
          "base_uri": "https://localhost:8080/",
          "height": 234
        },
        "id": "gSvUgYEm4b3A",
        "outputId": "58c4cbe2-8761-4b0a-cf61-16c1ec3d3ecf"
      },
      "source": [
        "df = df.drop(['headline_text'],axis = 1)\n",
        "df.head()"
      ],
      "execution_count": null,
      "outputs": [
        {
          "output_type": "execute_result",
          "data": {
            "text/html": [
              "<div>\n",
              "<style scoped>\n",
              "    .dataframe tbody tr th:only-of-type {\n",
              "        vertical-align: middle;\n",
              "    }\n",
              "\n",
              "    .dataframe tbody tr th {\n",
              "        vertical-align: top;\n",
              "    }\n",
              "\n",
              "    .dataframe thead th {\n",
              "        text-align: right;\n",
              "    }\n",
              "</style>\n",
              "<table border=\"1\" class=\"dataframe\">\n",
              "  <thead>\n",
              "    <tr style=\"text-align: right;\">\n",
              "      <th></th>\n",
              "      <th>Close</th>\n",
              "      <th>Subjectivity</th>\n",
              "      <th>Polarity</th>\n",
              "      <th>Compound</th>\n",
              "      <th>Negative</th>\n",
              "      <th>Neutral</th>\n",
              "      <th>Positive</th>\n",
              "    </tr>\n",
              "    <tr>\n",
              "      <th>key</th>\n",
              "      <th></th>\n",
              "      <th></th>\n",
              "      <th></th>\n",
              "      <th></th>\n",
              "      <th></th>\n",
              "      <th></th>\n",
              "      <th></th>\n",
              "    </tr>\n",
              "  </thead>\n",
              "  <tbody>\n",
              "    <tr>\n",
              "      <th>2001-01-02</th>\n",
              "      <td>0.024684</td>\n",
              "      <td>0.273264</td>\n",
              "      <td>0.136806</td>\n",
              "      <td>-0.9486</td>\n",
              "      <td>0.147</td>\n",
              "      <td>0.747</td>\n",
              "      <td>0.106</td>\n",
              "    </tr>\n",
              "    <tr>\n",
              "      <th>2001-01-03</th>\n",
              "      <td>0.025399</td>\n",
              "      <td>0.458333</td>\n",
              "      <td>0.062500</td>\n",
              "      <td>0.2023</td>\n",
              "      <td>0.140</td>\n",
              "      <td>0.717</td>\n",
              "      <td>0.143</td>\n",
              "    </tr>\n",
              "    <tr>\n",
              "      <th>2001-01-04</th>\n",
              "      <td>0.026362</td>\n",
              "      <td>0.449244</td>\n",
              "      <td>0.071931</td>\n",
              "      <td>0.5106</td>\n",
              "      <td>0.124</td>\n",
              "      <td>0.752</td>\n",
              "      <td>0.123</td>\n",
              "    </tr>\n",
              "    <tr>\n",
              "      <th>2001-01-05</th>\n",
              "      <td>0.027552</td>\n",
              "      <td>0.477807</td>\n",
              "      <td>0.266578</td>\n",
              "      <td>0.9740</td>\n",
              "      <td>0.149</td>\n",
              "      <td>0.667</td>\n",
              "      <td>0.183</td>\n",
              "    </tr>\n",
              "    <tr>\n",
              "      <th>2001-01-08</th>\n",
              "      <td>0.026450</td>\n",
              "      <td>0.411492</td>\n",
              "      <td>-0.038444</td>\n",
              "      <td>-0.9666</td>\n",
              "      <td>0.139</td>\n",
              "      <td>0.775</td>\n",
              "      <td>0.086</td>\n",
              "    </tr>\n",
              "  </tbody>\n",
              "</table>\n",
              "</div>"
            ],
            "text/plain": [
              "               Close  Subjectivity  Polarity  ...  Negative  Neutral  Positive\n",
              "key                                           ...                             \n",
              "2001-01-02  0.024684      0.273264  0.136806  ...     0.147    0.747     0.106\n",
              "2001-01-03  0.025399      0.458333  0.062500  ...     0.140    0.717     0.143\n",
              "2001-01-04  0.026362      0.449244  0.071931  ...     0.124    0.752     0.123\n",
              "2001-01-05  0.027552      0.477807  0.266578  ...     0.149    0.667     0.183\n",
              "2001-01-08  0.026450      0.411492 -0.038444  ...     0.139    0.775     0.086\n",
              "\n",
              "[5 rows x 7 columns]"
            ]
          },
          "metadata": {},
          "execution_count": 71
        }
      ]
    },
    {
      "cell_type": "markdown",
      "metadata": {
        "id": "4kkymQFj4odJ"
      },
      "source": [
        "# Modelling"
      ]
    },
    {
      "cell_type": "markdown",
      "metadata": {
        "id": "VxuZndOHFEG4"
      },
      "source": [
        "## 1. Without using sentiments\n",
        "refer to <a href = \"https://github.com/harsh2k1/-Stock-Market-prediction-using-numerical-and-textual-analysis/blob/main/StockPredictionw_oSentiment.ipynb\">this notebook</a>"
      ]
    },
    {
      "cell_type": "markdown",
      "metadata": {
        "id": "gFyGL72yJK1R"
      },
      "source": [
        "## 2. Using Sentiment as well as numerical analysis"
      ]
    },
    {
      "cell_type": "markdown",
      "metadata": {
        "id": "quu3TPZpRWkb"
      },
      "source": [
        "### a. Splitting data"
      ]
    },
    {
      "cell_type": "code",
      "metadata": {
        "id": "QSTLWFuNxQdW"
      },
      "source": [
        "df1 = df.copy()\n",
        "time_step = 100\n",
        "for i in range(1, time_step+1):\n",
        "  df1[f'{i}'] = df['Close'].shift(i)\n",
        "df1.dropna(inplace=True)"
      ],
      "execution_count": null,
      "outputs": []
    },
    {
      "cell_type": "code",
      "metadata": {
        "colab": {
          "base_uri": "https://localhost:8080/",
          "height": 366
        },
        "id": "ie_0-X-SJRmn",
        "outputId": "1d554058-60f5-4118-c5b2-243a04262469"
      },
      "source": [
        "df1.head()"
      ],
      "execution_count": null,
      "outputs": [
        {
          "output_type": "execute_result",
          "data": {
            "text/html": [
              "<div>\n",
              "<style scoped>\n",
              "    .dataframe tbody tr th:only-of-type {\n",
              "        vertical-align: middle;\n",
              "    }\n",
              "\n",
              "    .dataframe tbody tr th {\n",
              "        vertical-align: top;\n",
              "    }\n",
              "\n",
              "    .dataframe thead th {\n",
              "        text-align: right;\n",
              "    }\n",
              "</style>\n",
              "<table border=\"1\" class=\"dataframe\">\n",
              "  <thead>\n",
              "    <tr style=\"text-align: right;\">\n",
              "      <th></th>\n",
              "      <th>Close</th>\n",
              "      <th>Subjectivity</th>\n",
              "      <th>Polarity</th>\n",
              "      <th>Compound</th>\n",
              "      <th>Negative</th>\n",
              "      <th>Neutral</th>\n",
              "      <th>Positive</th>\n",
              "      <th>1</th>\n",
              "      <th>2</th>\n",
              "      <th>3</th>\n",
              "      <th>4</th>\n",
              "      <th>5</th>\n",
              "      <th>6</th>\n",
              "      <th>7</th>\n",
              "      <th>8</th>\n",
              "      <th>9</th>\n",
              "      <th>10</th>\n",
              "      <th>11</th>\n",
              "      <th>12</th>\n",
              "      <th>13</th>\n",
              "      <th>14</th>\n",
              "      <th>15</th>\n",
              "      <th>16</th>\n",
              "      <th>17</th>\n",
              "      <th>18</th>\n",
              "      <th>19</th>\n",
              "      <th>20</th>\n",
              "      <th>21</th>\n",
              "      <th>22</th>\n",
              "      <th>23</th>\n",
              "      <th>24</th>\n",
              "      <th>25</th>\n",
              "      <th>26</th>\n",
              "      <th>27</th>\n",
              "      <th>28</th>\n",
              "      <th>29</th>\n",
              "      <th>30</th>\n",
              "      <th>31</th>\n",
              "      <th>32</th>\n",
              "      <th>33</th>\n",
              "      <th>...</th>\n",
              "      <th>61</th>\n",
              "      <th>62</th>\n",
              "      <th>63</th>\n",
              "      <th>64</th>\n",
              "      <th>65</th>\n",
              "      <th>66</th>\n",
              "      <th>67</th>\n",
              "      <th>68</th>\n",
              "      <th>69</th>\n",
              "      <th>70</th>\n",
              "      <th>71</th>\n",
              "      <th>72</th>\n",
              "      <th>73</th>\n",
              "      <th>74</th>\n",
              "      <th>75</th>\n",
              "      <th>76</th>\n",
              "      <th>77</th>\n",
              "      <th>78</th>\n",
              "      <th>79</th>\n",
              "      <th>80</th>\n",
              "      <th>81</th>\n",
              "      <th>82</th>\n",
              "      <th>83</th>\n",
              "      <th>84</th>\n",
              "      <th>85</th>\n",
              "      <th>86</th>\n",
              "      <th>87</th>\n",
              "      <th>88</th>\n",
              "      <th>89</th>\n",
              "      <th>90</th>\n",
              "      <th>91</th>\n",
              "      <th>92</th>\n",
              "      <th>93</th>\n",
              "      <th>94</th>\n",
              "      <th>95</th>\n",
              "      <th>96</th>\n",
              "      <th>97</th>\n",
              "      <th>98</th>\n",
              "      <th>99</th>\n",
              "      <th>100</th>\n",
              "    </tr>\n",
              "    <tr>\n",
              "      <th>key</th>\n",
              "      <th></th>\n",
              "      <th></th>\n",
              "      <th></th>\n",
              "      <th></th>\n",
              "      <th></th>\n",
              "      <th></th>\n",
              "      <th></th>\n",
              "      <th></th>\n",
              "      <th></th>\n",
              "      <th></th>\n",
              "      <th></th>\n",
              "      <th></th>\n",
              "      <th></th>\n",
              "      <th></th>\n",
              "      <th></th>\n",
              "      <th></th>\n",
              "      <th></th>\n",
              "      <th></th>\n",
              "      <th></th>\n",
              "      <th></th>\n",
              "      <th></th>\n",
              "      <th></th>\n",
              "      <th></th>\n",
              "      <th></th>\n",
              "      <th></th>\n",
              "      <th></th>\n",
              "      <th></th>\n",
              "      <th></th>\n",
              "      <th></th>\n",
              "      <th></th>\n",
              "      <th></th>\n",
              "      <th></th>\n",
              "      <th></th>\n",
              "      <th></th>\n",
              "      <th></th>\n",
              "      <th></th>\n",
              "      <th></th>\n",
              "      <th></th>\n",
              "      <th></th>\n",
              "      <th></th>\n",
              "      <th></th>\n",
              "      <th></th>\n",
              "      <th></th>\n",
              "      <th></th>\n",
              "      <th></th>\n",
              "      <th></th>\n",
              "      <th></th>\n",
              "      <th></th>\n",
              "      <th></th>\n",
              "      <th></th>\n",
              "      <th></th>\n",
              "      <th></th>\n",
              "      <th></th>\n",
              "      <th></th>\n",
              "      <th></th>\n",
              "      <th></th>\n",
              "      <th></th>\n",
              "      <th></th>\n",
              "      <th></th>\n",
              "      <th></th>\n",
              "      <th></th>\n",
              "      <th></th>\n",
              "      <th></th>\n",
              "      <th></th>\n",
              "      <th></th>\n",
              "      <th></th>\n",
              "      <th></th>\n",
              "      <th></th>\n",
              "      <th></th>\n",
              "      <th></th>\n",
              "      <th></th>\n",
              "      <th></th>\n",
              "      <th></th>\n",
              "      <th></th>\n",
              "      <th></th>\n",
              "      <th></th>\n",
              "      <th></th>\n",
              "      <th></th>\n",
              "      <th></th>\n",
              "      <th></th>\n",
              "      <th></th>\n",
              "    </tr>\n",
              "  </thead>\n",
              "  <tbody>\n",
              "    <tr>\n",
              "      <th>2001-07-09</th>\n",
              "      <td>0.012017</td>\n",
              "      <td>0.476989</td>\n",
              "      <td>0.025597</td>\n",
              "      <td>-0.5090</td>\n",
              "      <td>0.139</td>\n",
              "      <td>0.713</td>\n",
              "      <td>0.147</td>\n",
              "      <td>0.012277</td>\n",
              "      <td>0.012483</td>\n",
              "      <td>0.012390</td>\n",
              "      <td>0.014369</td>\n",
              "      <td>0.014904</td>\n",
              "      <td>0.014001</td>\n",
              "      <td>0.014119</td>\n",
              "      <td>0.014044</td>\n",
              "      <td>0.012501</td>\n",
              "      <td>0.013599</td>\n",
              "      <td>0.014014</td>\n",
              "      <td>0.014022</td>\n",
              "      <td>0.014912</td>\n",
              "      <td>0.014961</td>\n",
              "      <td>0.015628</td>\n",
              "      <td>0.016659</td>\n",
              "      <td>0.018475</td>\n",
              "      <td>0.019868</td>\n",
              "      <td>0.019486</td>\n",
              "      <td>0.018437</td>\n",
              "      <td>0.018102</td>\n",
              "      <td>0.018353</td>\n",
              "      <td>0.018610</td>\n",
              "      <td>0.017258</td>\n",
              "      <td>0.016995</td>\n",
              "      <td>0.016855</td>\n",
              "      <td>0.016696</td>\n",
              "      <td>0.016844</td>\n",
              "      <td>0.017162</td>\n",
              "      <td>0.017054</td>\n",
              "      <td>0.016436</td>\n",
              "      <td>0.015910</td>\n",
              "      <td>0.015560</td>\n",
              "      <td>...</td>\n",
              "      <td>0.019932</td>\n",
              "      <td>0.021221</td>\n",
              "      <td>0.019571</td>\n",
              "      <td>0.016363</td>\n",
              "      <td>0.022301</td>\n",
              "      <td>0.024322</td>\n",
              "      <td>0.026011</td>\n",
              "      <td>0.029081</td>\n",
              "      <td>0.028653</td>\n",
              "      <td>0.025567</td>\n",
              "      <td>0.026316</td>\n",
              "      <td>0.026481</td>\n",
              "      <td>0.028923</td>\n",
              "      <td>0.029613</td>\n",
              "      <td>0.030456</td>\n",
              "      <td>0.030102</td>\n",
              "      <td>0.031975</td>\n",
              "      <td>0.030673</td>\n",
              "      <td>0.030672</td>\n",
              "      <td>0.031424</td>\n",
              "      <td>0.031268</td>\n",
              "      <td>0.030987</td>\n",
              "      <td>0.029800</td>\n",
              "      <td>0.030884</td>\n",
              "      <td>0.030801</td>\n",
              "      <td>0.030484</td>\n",
              "      <td>0.029333</td>\n",
              "      <td>0.030039</td>\n",
              "      <td>0.030828</td>\n",
              "      <td>0.028436</td>\n",
              "      <td>0.030100</td>\n",
              "      <td>0.030034</td>\n",
              "      <td>0.029517</td>\n",
              "      <td>0.025184</td>\n",
              "      <td>0.026535</td>\n",
              "      <td>0.026450</td>\n",
              "      <td>0.027552</td>\n",
              "      <td>0.026362</td>\n",
              "      <td>0.025399</td>\n",
              "      <td>0.024684</td>\n",
              "    </tr>\n",
              "    <tr>\n",
              "      <th>2001-07-10</th>\n",
              "      <td>0.012668</td>\n",
              "      <td>0.409042</td>\n",
              "      <td>0.083492</td>\n",
              "      <td>-0.9814</td>\n",
              "      <td>0.174</td>\n",
              "      <td>0.716</td>\n",
              "      <td>0.110</td>\n",
              "      <td>0.012017</td>\n",
              "      <td>0.012277</td>\n",
              "      <td>0.012483</td>\n",
              "      <td>0.012390</td>\n",
              "      <td>0.014369</td>\n",
              "      <td>0.014904</td>\n",
              "      <td>0.014001</td>\n",
              "      <td>0.014119</td>\n",
              "      <td>0.014044</td>\n",
              "      <td>0.012501</td>\n",
              "      <td>0.013599</td>\n",
              "      <td>0.014014</td>\n",
              "      <td>0.014022</td>\n",
              "      <td>0.014912</td>\n",
              "      <td>0.014961</td>\n",
              "      <td>0.015628</td>\n",
              "      <td>0.016659</td>\n",
              "      <td>0.018475</td>\n",
              "      <td>0.019868</td>\n",
              "      <td>0.019486</td>\n",
              "      <td>0.018437</td>\n",
              "      <td>0.018102</td>\n",
              "      <td>0.018353</td>\n",
              "      <td>0.018610</td>\n",
              "      <td>0.017258</td>\n",
              "      <td>0.016995</td>\n",
              "      <td>0.016855</td>\n",
              "      <td>0.016696</td>\n",
              "      <td>0.016844</td>\n",
              "      <td>0.017162</td>\n",
              "      <td>0.017054</td>\n",
              "      <td>0.016436</td>\n",
              "      <td>0.015910</td>\n",
              "      <td>...</td>\n",
              "      <td>0.019527</td>\n",
              "      <td>0.019932</td>\n",
              "      <td>0.021221</td>\n",
              "      <td>0.019571</td>\n",
              "      <td>0.016363</td>\n",
              "      <td>0.022301</td>\n",
              "      <td>0.024322</td>\n",
              "      <td>0.026011</td>\n",
              "      <td>0.029081</td>\n",
              "      <td>0.028653</td>\n",
              "      <td>0.025567</td>\n",
              "      <td>0.026316</td>\n",
              "      <td>0.026481</td>\n",
              "      <td>0.028923</td>\n",
              "      <td>0.029613</td>\n",
              "      <td>0.030456</td>\n",
              "      <td>0.030102</td>\n",
              "      <td>0.031975</td>\n",
              "      <td>0.030673</td>\n",
              "      <td>0.030672</td>\n",
              "      <td>0.031424</td>\n",
              "      <td>0.031268</td>\n",
              "      <td>0.030987</td>\n",
              "      <td>0.029800</td>\n",
              "      <td>0.030884</td>\n",
              "      <td>0.030801</td>\n",
              "      <td>0.030484</td>\n",
              "      <td>0.029333</td>\n",
              "      <td>0.030039</td>\n",
              "      <td>0.030828</td>\n",
              "      <td>0.028436</td>\n",
              "      <td>0.030100</td>\n",
              "      <td>0.030034</td>\n",
              "      <td>0.029517</td>\n",
              "      <td>0.025184</td>\n",
              "      <td>0.026535</td>\n",
              "      <td>0.026450</td>\n",
              "      <td>0.027552</td>\n",
              "      <td>0.026362</td>\n",
              "      <td>0.025399</td>\n",
              "    </tr>\n",
              "    <tr>\n",
              "      <th>2001-07-11</th>\n",
              "      <td>0.013502</td>\n",
              "      <td>0.434152</td>\n",
              "      <td>0.035212</td>\n",
              "      <td>-0.9963</td>\n",
              "      <td>0.176</td>\n",
              "      <td>0.756</td>\n",
              "      <td>0.069</td>\n",
              "      <td>0.012668</td>\n",
              "      <td>0.012017</td>\n",
              "      <td>0.012277</td>\n",
              "      <td>0.012483</td>\n",
              "      <td>0.012390</td>\n",
              "      <td>0.014369</td>\n",
              "      <td>0.014904</td>\n",
              "      <td>0.014001</td>\n",
              "      <td>0.014119</td>\n",
              "      <td>0.014044</td>\n",
              "      <td>0.012501</td>\n",
              "      <td>0.013599</td>\n",
              "      <td>0.014014</td>\n",
              "      <td>0.014022</td>\n",
              "      <td>0.014912</td>\n",
              "      <td>0.014961</td>\n",
              "      <td>0.015628</td>\n",
              "      <td>0.016659</td>\n",
              "      <td>0.018475</td>\n",
              "      <td>0.019868</td>\n",
              "      <td>0.019486</td>\n",
              "      <td>0.018437</td>\n",
              "      <td>0.018102</td>\n",
              "      <td>0.018353</td>\n",
              "      <td>0.018610</td>\n",
              "      <td>0.017258</td>\n",
              "      <td>0.016995</td>\n",
              "      <td>0.016855</td>\n",
              "      <td>0.016696</td>\n",
              "      <td>0.016844</td>\n",
              "      <td>0.017162</td>\n",
              "      <td>0.017054</td>\n",
              "      <td>0.016436</td>\n",
              "      <td>...</td>\n",
              "      <td>0.018656</td>\n",
              "      <td>0.019527</td>\n",
              "      <td>0.019932</td>\n",
              "      <td>0.021221</td>\n",
              "      <td>0.019571</td>\n",
              "      <td>0.016363</td>\n",
              "      <td>0.022301</td>\n",
              "      <td>0.024322</td>\n",
              "      <td>0.026011</td>\n",
              "      <td>0.029081</td>\n",
              "      <td>0.028653</td>\n",
              "      <td>0.025567</td>\n",
              "      <td>0.026316</td>\n",
              "      <td>0.026481</td>\n",
              "      <td>0.028923</td>\n",
              "      <td>0.029613</td>\n",
              "      <td>0.030456</td>\n",
              "      <td>0.030102</td>\n",
              "      <td>0.031975</td>\n",
              "      <td>0.030673</td>\n",
              "      <td>0.030672</td>\n",
              "      <td>0.031424</td>\n",
              "      <td>0.031268</td>\n",
              "      <td>0.030987</td>\n",
              "      <td>0.029800</td>\n",
              "      <td>0.030884</td>\n",
              "      <td>0.030801</td>\n",
              "      <td>0.030484</td>\n",
              "      <td>0.029333</td>\n",
              "      <td>0.030039</td>\n",
              "      <td>0.030828</td>\n",
              "      <td>0.028436</td>\n",
              "      <td>0.030100</td>\n",
              "      <td>0.030034</td>\n",
              "      <td>0.029517</td>\n",
              "      <td>0.025184</td>\n",
              "      <td>0.026535</td>\n",
              "      <td>0.026450</td>\n",
              "      <td>0.027552</td>\n",
              "      <td>0.026362</td>\n",
              "    </tr>\n",
              "    <tr>\n",
              "      <th>2001-07-12</th>\n",
              "      <td>0.014834</td>\n",
              "      <td>0.437500</td>\n",
              "      <td>0.086198</td>\n",
              "      <td>-0.9409</td>\n",
              "      <td>0.148</td>\n",
              "      <td>0.771</td>\n",
              "      <td>0.081</td>\n",
              "      <td>0.013502</td>\n",
              "      <td>0.012668</td>\n",
              "      <td>0.012017</td>\n",
              "      <td>0.012277</td>\n",
              "      <td>0.012483</td>\n",
              "      <td>0.012390</td>\n",
              "      <td>0.014369</td>\n",
              "      <td>0.014904</td>\n",
              "      <td>0.014001</td>\n",
              "      <td>0.014119</td>\n",
              "      <td>0.014044</td>\n",
              "      <td>0.012501</td>\n",
              "      <td>0.013599</td>\n",
              "      <td>0.014014</td>\n",
              "      <td>0.014022</td>\n",
              "      <td>0.014912</td>\n",
              "      <td>0.014961</td>\n",
              "      <td>0.015628</td>\n",
              "      <td>0.016659</td>\n",
              "      <td>0.018475</td>\n",
              "      <td>0.019868</td>\n",
              "      <td>0.019486</td>\n",
              "      <td>0.018437</td>\n",
              "      <td>0.018102</td>\n",
              "      <td>0.018353</td>\n",
              "      <td>0.018610</td>\n",
              "      <td>0.017258</td>\n",
              "      <td>0.016995</td>\n",
              "      <td>0.016855</td>\n",
              "      <td>0.016696</td>\n",
              "      <td>0.016844</td>\n",
              "      <td>0.017162</td>\n",
              "      <td>0.017054</td>\n",
              "      <td>...</td>\n",
              "      <td>0.020720</td>\n",
              "      <td>0.018656</td>\n",
              "      <td>0.019527</td>\n",
              "      <td>0.019932</td>\n",
              "      <td>0.021221</td>\n",
              "      <td>0.019571</td>\n",
              "      <td>0.016363</td>\n",
              "      <td>0.022301</td>\n",
              "      <td>0.024322</td>\n",
              "      <td>0.026011</td>\n",
              "      <td>0.029081</td>\n",
              "      <td>0.028653</td>\n",
              "      <td>0.025567</td>\n",
              "      <td>0.026316</td>\n",
              "      <td>0.026481</td>\n",
              "      <td>0.028923</td>\n",
              "      <td>0.029613</td>\n",
              "      <td>0.030456</td>\n",
              "      <td>0.030102</td>\n",
              "      <td>0.031975</td>\n",
              "      <td>0.030673</td>\n",
              "      <td>0.030672</td>\n",
              "      <td>0.031424</td>\n",
              "      <td>0.031268</td>\n",
              "      <td>0.030987</td>\n",
              "      <td>0.029800</td>\n",
              "      <td>0.030884</td>\n",
              "      <td>0.030801</td>\n",
              "      <td>0.030484</td>\n",
              "      <td>0.029333</td>\n",
              "      <td>0.030039</td>\n",
              "      <td>0.030828</td>\n",
              "      <td>0.028436</td>\n",
              "      <td>0.030100</td>\n",
              "      <td>0.030034</td>\n",
              "      <td>0.029517</td>\n",
              "      <td>0.025184</td>\n",
              "      <td>0.026535</td>\n",
              "      <td>0.026450</td>\n",
              "      <td>0.027552</td>\n",
              "    </tr>\n",
              "    <tr>\n",
              "      <th>2001-07-13</th>\n",
              "      <td>0.014856</td>\n",
              "      <td>0.448691</td>\n",
              "      <td>0.072843</td>\n",
              "      <td>-0.9930</td>\n",
              "      <td>0.152</td>\n",
              "      <td>0.734</td>\n",
              "      <td>0.113</td>\n",
              "      <td>0.014834</td>\n",
              "      <td>0.013502</td>\n",
              "      <td>0.012668</td>\n",
              "      <td>0.012017</td>\n",
              "      <td>0.012277</td>\n",
              "      <td>0.012483</td>\n",
              "      <td>0.012390</td>\n",
              "      <td>0.014369</td>\n",
              "      <td>0.014904</td>\n",
              "      <td>0.014001</td>\n",
              "      <td>0.014119</td>\n",
              "      <td>0.014044</td>\n",
              "      <td>0.012501</td>\n",
              "      <td>0.013599</td>\n",
              "      <td>0.014014</td>\n",
              "      <td>0.014022</td>\n",
              "      <td>0.014912</td>\n",
              "      <td>0.014961</td>\n",
              "      <td>0.015628</td>\n",
              "      <td>0.016659</td>\n",
              "      <td>0.018475</td>\n",
              "      <td>0.019868</td>\n",
              "      <td>0.019486</td>\n",
              "      <td>0.018437</td>\n",
              "      <td>0.018102</td>\n",
              "      <td>0.018353</td>\n",
              "      <td>0.018610</td>\n",
              "      <td>0.017258</td>\n",
              "      <td>0.016995</td>\n",
              "      <td>0.016855</td>\n",
              "      <td>0.016696</td>\n",
              "      <td>0.016844</td>\n",
              "      <td>0.017162</td>\n",
              "      <td>...</td>\n",
              "      <td>0.019379</td>\n",
              "      <td>0.020720</td>\n",
              "      <td>0.018656</td>\n",
              "      <td>0.019527</td>\n",
              "      <td>0.019932</td>\n",
              "      <td>0.021221</td>\n",
              "      <td>0.019571</td>\n",
              "      <td>0.016363</td>\n",
              "      <td>0.022301</td>\n",
              "      <td>0.024322</td>\n",
              "      <td>0.026011</td>\n",
              "      <td>0.029081</td>\n",
              "      <td>0.028653</td>\n",
              "      <td>0.025567</td>\n",
              "      <td>0.026316</td>\n",
              "      <td>0.026481</td>\n",
              "      <td>0.028923</td>\n",
              "      <td>0.029613</td>\n",
              "      <td>0.030456</td>\n",
              "      <td>0.030102</td>\n",
              "      <td>0.031975</td>\n",
              "      <td>0.030673</td>\n",
              "      <td>0.030672</td>\n",
              "      <td>0.031424</td>\n",
              "      <td>0.031268</td>\n",
              "      <td>0.030987</td>\n",
              "      <td>0.029800</td>\n",
              "      <td>0.030884</td>\n",
              "      <td>0.030801</td>\n",
              "      <td>0.030484</td>\n",
              "      <td>0.029333</td>\n",
              "      <td>0.030039</td>\n",
              "      <td>0.030828</td>\n",
              "      <td>0.028436</td>\n",
              "      <td>0.030100</td>\n",
              "      <td>0.030034</td>\n",
              "      <td>0.029517</td>\n",
              "      <td>0.025184</td>\n",
              "      <td>0.026535</td>\n",
              "      <td>0.026450</td>\n",
              "    </tr>\n",
              "  </tbody>\n",
              "</table>\n",
              "<p>5 rows × 107 columns</p>\n",
              "</div>"
            ],
            "text/plain": [
              "               Close  Subjectivity  Polarity  ...        98        99       100\n",
              "key                                           ...                              \n",
              "2001-07-09  0.012017      0.476989  0.025597  ...  0.026362  0.025399  0.024684\n",
              "2001-07-10  0.012668      0.409042  0.083492  ...  0.027552  0.026362  0.025399\n",
              "2001-07-11  0.013502      0.434152  0.035212  ...  0.026450  0.027552  0.026362\n",
              "2001-07-12  0.014834      0.437500  0.086198  ...  0.026535  0.026450  0.027552\n",
              "2001-07-13  0.014856      0.448691  0.072843  ...  0.025184  0.026535  0.026450\n",
              "\n",
              "[5 rows x 107 columns]"
            ]
          },
          "metadata": {},
          "execution_count": 141
        }
      ]
    },
    {
      "cell_type": "code",
      "metadata": {
        "id": "-w6HAWZZROOg"
      },
      "source": [
        "# Into train and test\n",
        "training_size = int(len(df1) * 0.65)      # 65% of length of data\n",
        "test_size = len(df1) - training_size      # 35% of length of data\n",
        "train_data, test_data = df1.iloc[0:training_size, :], df1.iloc[training_size:len(df1), :]"
      ],
      "execution_count": null,
      "outputs": []
    },
    {
      "cell_type": "code",
      "metadata": {
        "colab": {
          "base_uri": "https://localhost:8080/"
        },
        "id": "BAh9xjt-Re19",
        "outputId": "1ca11ce1-90ff-43f3-ae9f-1d4388cb22d9"
      },
      "source": [
        "len(df1),training_size , test_size "
      ],
      "execution_count": null,
      "outputs": [
        {
          "output_type": "execute_result",
          "data": {
            "text/plain": [
              "(4793, 3115, 1678)"
            ]
          },
          "metadata": {},
          "execution_count": 102
        }
      ]
    },
    {
      "cell_type": "code",
      "metadata": {
        "id": "cMi5ujBLVoZu"
      },
      "source": [
        "# Into dependent and independent features\n",
        "X_train = train_data.iloc[:,1:]\n",
        "X_test = test_data.iloc[:,1:]\n",
        "y_train = train_data.iloc[:,0]\n",
        "y_test = test_data.iloc[:,0]"
      ],
      "execution_count": null,
      "outputs": []
    },
    {
      "cell_type": "code",
      "metadata": {
        "colab": {
          "base_uri": "https://localhost:8080/"
        },
        "id": "rGcQUNw0z5ul",
        "outputId": "cb3f8f96-b995-49a4-9c35-938e761bfaa0"
      },
      "source": [
        "X_train.shape, y_train.shape, X_test.shape , y_test.shape"
      ],
      "execution_count": null,
      "outputs": [
        {
          "output_type": "execute_result",
          "data": {
            "text/plain": [
              "((3115, 106), (3115,), (1678, 106), (1678,))"
            ]
          },
          "metadata": {},
          "execution_count": 105
        }
      ]
    },
    {
      "cell_type": "markdown",
      "metadata": {
        "id": "DmfTSzGo0D8v"
      },
      "source": [
        "### b. Modelling using Dense model"
      ]
    },
    {
      "cell_type": "code",
      "metadata": {
        "id": "rSvsP9c00A6V"
      },
      "source": [
        "from tensorflow.keras.models import Sequential\n",
        "from tensorflow.keras.layers import Dense , LSTM , Dropout\n",
        "from keras.wrappers.scikit_learn import KerasRegressor"
      ],
      "execution_count": null,
      "outputs": []
    },
    {
      "cell_type": "code",
      "metadata": {
        "id": "WupFzmMzu0oa"
      },
      "source": [
        "model = Sequential()\n",
        "model.add(Dense(100,input_dim = X_train.shape[1], activation = 'relu'))\n",
        "model.add(Dropout(0.1))\n",
        "model.add(Dense(100, activation = 'relu'))\n",
        "model.add(Dropout(0.1))\n",
        "model.add(Dense(50,activation='relu'))\n",
        "model.add(Dense(1))\n",
        "model.compile(loss='mean_squared_error',optimizer='adam', metrics = ['accuracy'])"
      ],
      "execution_count": null,
      "outputs": []
    },
    {
      "cell_type": "code",
      "metadata": {
        "colab": {
          "base_uri": "https://localhost:8080/"
        },
        "id": "fHGBas2L0QcB",
        "outputId": "e75d7564-f9d5-4aff-b109-b6e9d04934fd"
      },
      "source": [
        "model.summary()"
      ],
      "execution_count": null,
      "outputs": [
        {
          "output_type": "stream",
          "name": "stdout",
          "text": [
            "Model: \"sequential_6\"\n",
            "_________________________________________________________________\n",
            "Layer (type)                 Output Shape              Param #   \n",
            "=================================================================\n",
            "dense_12 (Dense)             (None, 100)               10700     \n",
            "_________________________________________________________________\n",
            "dropout_4 (Dropout)          (None, 100)               0         \n",
            "_________________________________________________________________\n",
            "dense_13 (Dense)             (None, 100)               10100     \n",
            "_________________________________________________________________\n",
            "dropout_5 (Dropout)          (None, 100)               0         \n",
            "_________________________________________________________________\n",
            "dense_14 (Dense)             (None, 50)                5050      \n",
            "_________________________________________________________________\n",
            "dense_15 (Dense)             (None, 1)                 51        \n",
            "=================================================================\n",
            "Total params: 25,901\n",
            "Trainable params: 25,901\n",
            "Non-trainable params: 0\n",
            "_________________________________________________________________\n"
          ]
        }
      ]
    },
    {
      "cell_type": "code",
      "metadata": {
        "colab": {
          "base_uri": "https://localhost:8080/"
        },
        "id": "__Xz--D60S3L",
        "outputId": "b78a2c79-09e4-40af-b56e-a20dbee578ae"
      },
      "source": [
        "history = model.fit(X_train,y_train,validation_data=(X_test,y_test),epochs=50,batch_size=20,verbose=1)"
      ],
      "execution_count": null,
      "outputs": [
        {
          "output_type": "stream",
          "name": "stdout",
          "text": [
            "Epoch 1/50\n",
            "156/156 [==============================] - 2s 8ms/step - loss: 0.0031 - accuracy: 3.2103e-04 - val_loss: 0.0039 - val_accuracy: 0.0000e+00\n",
            "Epoch 2/50\n",
            "156/156 [==============================] - 1s 5ms/step - loss: 5.9057e-04 - accuracy: 3.2103e-04 - val_loss: 0.0079 - val_accuracy: 0.0000e+00\n",
            "Epoch 3/50\n",
            "156/156 [==============================] - 1s 5ms/step - loss: 3.8423e-04 - accuracy: 3.2103e-04 - val_loss: 0.0154 - val_accuracy: 0.0000e+00\n",
            "Epoch 4/50\n",
            "156/156 [==============================] - 1s 6ms/step - loss: 3.4352e-04 - accuracy: 3.2103e-04 - val_loss: 0.0088 - val_accuracy: 0.0000e+00\n",
            "Epoch 5/50\n",
            "156/156 [==============================] - 1s 6ms/step - loss: 2.7245e-04 - accuracy: 3.2103e-04 - val_loss: 0.0063 - val_accuracy: 0.0000e+00\n",
            "Epoch 6/50\n",
            "156/156 [==============================] - 1s 5ms/step - loss: 2.7497e-04 - accuracy: 3.2103e-04 - val_loss: 0.0092 - val_accuracy: 0.0000e+00\n",
            "Epoch 7/50\n",
            "156/156 [==============================] - 1s 5ms/step - loss: 2.5593e-04 - accuracy: 3.2103e-04 - val_loss: 0.0086 - val_accuracy: 0.0000e+00\n",
            "Epoch 8/50\n",
            "156/156 [==============================] - 1s 5ms/step - loss: 2.2237e-04 - accuracy: 3.2103e-04 - val_loss: 0.0066 - val_accuracy: 0.0000e+00\n",
            "Epoch 9/50\n",
            "156/156 [==============================] - 1s 5ms/step - loss: 2.0955e-04 - accuracy: 3.2103e-04 - val_loss: 0.0098 - val_accuracy: 0.0000e+00\n",
            "Epoch 10/50\n",
            "156/156 [==============================] - 1s 6ms/step - loss: 1.8533e-04 - accuracy: 3.2103e-04 - val_loss: 0.0118 - val_accuracy: 0.0000e+00\n",
            "Epoch 11/50\n",
            "156/156 [==============================] - 1s 6ms/step - loss: 1.7789e-04 - accuracy: 3.2103e-04 - val_loss: 0.0108 - val_accuracy: 0.0000e+00\n",
            "Epoch 12/50\n",
            "156/156 [==============================] - 1s 6ms/step - loss: 1.7013e-04 - accuracy: 3.2103e-04 - val_loss: 0.0083 - val_accuracy: 0.0000e+00\n",
            "Epoch 13/50\n",
            "156/156 [==============================] - 1s 5ms/step - loss: 1.7949e-04 - accuracy: 3.2103e-04 - val_loss: 0.0088 - val_accuracy: 0.0000e+00\n",
            "Epoch 14/50\n",
            "156/156 [==============================] - 1s 6ms/step - loss: 1.4634e-04 - accuracy: 3.2103e-04 - val_loss: 0.0062 - val_accuracy: 0.0000e+00\n",
            "Epoch 15/50\n",
            "156/156 [==============================] - 1s 5ms/step - loss: 1.4435e-04 - accuracy: 3.2103e-04 - val_loss: 0.0091 - val_accuracy: 0.0000e+00\n",
            "Epoch 16/50\n",
            "156/156 [==============================] - 1s 6ms/step - loss: 1.2853e-04 - accuracy: 3.2103e-04 - val_loss: 0.0131 - val_accuracy: 0.0000e+00\n",
            "Epoch 17/50\n",
            "156/156 [==============================] - 1s 6ms/step - loss: 1.2982e-04 - accuracy: 3.2103e-04 - val_loss: 0.0075 - val_accuracy: 0.0000e+00\n",
            "Epoch 18/50\n",
            "156/156 [==============================] - 1s 5ms/step - loss: 1.3499e-04 - accuracy: 3.2103e-04 - val_loss: 0.0070 - val_accuracy: 0.0000e+00\n",
            "Epoch 19/50\n",
            "156/156 [==============================] - 1s 6ms/step - loss: 1.3142e-04 - accuracy: 3.2103e-04 - val_loss: 0.0053 - val_accuracy: 0.0000e+00\n",
            "Epoch 20/50\n",
            "156/156 [==============================] - 1s 6ms/step - loss: 1.1365e-04 - accuracy: 3.2103e-04 - val_loss: 0.0067 - val_accuracy: 0.0000e+00\n",
            "Epoch 21/50\n",
            "156/156 [==============================] - 1s 6ms/step - loss: 1.1374e-04 - accuracy: 3.2103e-04 - val_loss: 0.0063 - val_accuracy: 0.0000e+00\n",
            "Epoch 22/50\n",
            "156/156 [==============================] - 1s 5ms/step - loss: 1.0354e-04 - accuracy: 3.2103e-04 - val_loss: 0.0058 - val_accuracy: 0.0000e+00\n",
            "Epoch 23/50\n",
            "156/156 [==============================] - 1s 6ms/step - loss: 1.1145e-04 - accuracy: 3.2103e-04 - val_loss: 0.0090 - val_accuracy: 0.0000e+00\n",
            "Epoch 24/50\n",
            "156/156 [==============================] - 1s 5ms/step - loss: 1.2574e-04 - accuracy: 3.2103e-04 - val_loss: 0.0065 - val_accuracy: 0.0000e+00\n",
            "Epoch 25/50\n",
            "156/156 [==============================] - 1s 5ms/step - loss: 1.0362e-04 - accuracy: 3.2103e-04 - val_loss: 0.0062 - val_accuracy: 0.0000e+00\n",
            "Epoch 26/50\n",
            "156/156 [==============================] - 1s 5ms/step - loss: 1.0997e-04 - accuracy: 3.2103e-04 - val_loss: 0.0047 - val_accuracy: 0.0000e+00\n",
            "Epoch 27/50\n",
            "156/156 [==============================] - 1s 5ms/step - loss: 1.0543e-04 - accuracy: 3.2103e-04 - val_loss: 0.0065 - val_accuracy: 0.0000e+00\n",
            "Epoch 28/50\n",
            "156/156 [==============================] - 1s 5ms/step - loss: 1.0771e-04 - accuracy: 3.2103e-04 - val_loss: 0.0039 - val_accuracy: 0.0000e+00\n",
            "Epoch 29/50\n",
            "156/156 [==============================] - 1s 6ms/step - loss: 1.0951e-04 - accuracy: 3.2103e-04 - val_loss: 0.0062 - val_accuracy: 0.0000e+00\n",
            "Epoch 30/50\n",
            "156/156 [==============================] - 1s 5ms/step - loss: 9.9821e-05 - accuracy: 3.2103e-04 - val_loss: 0.0035 - val_accuracy: 0.0000e+00\n",
            "Epoch 31/50\n",
            "156/156 [==============================] - 1s 6ms/step - loss: 8.8858e-05 - accuracy: 3.2103e-04 - val_loss: 0.0055 - val_accuracy: 0.0000e+00\n",
            "Epoch 32/50\n",
            "156/156 [==============================] - 1s 5ms/step - loss: 8.7508e-05 - accuracy: 3.2103e-04 - val_loss: 0.0051 - val_accuracy: 0.0000e+00\n",
            "Epoch 33/50\n",
            "156/156 [==============================] - 1s 6ms/step - loss: 8.6320e-05 - accuracy: 3.2103e-04 - val_loss: 0.0075 - val_accuracy: 0.0000e+00\n",
            "Epoch 34/50\n",
            "156/156 [==============================] - 1s 6ms/step - loss: 8.5415e-05 - accuracy: 3.2103e-04 - val_loss: 0.0067 - val_accuracy: 0.0000e+00\n",
            "Epoch 35/50\n",
            "156/156 [==============================] - 1s 6ms/step - loss: 8.7713e-05 - accuracy: 3.2103e-04 - val_loss: 0.0052 - val_accuracy: 0.0000e+00\n",
            "Epoch 36/50\n",
            "156/156 [==============================] - 1s 6ms/step - loss: 7.2058e-05 - accuracy: 3.2103e-04 - val_loss: 0.0056 - val_accuracy: 0.0000e+00\n",
            "Epoch 37/50\n",
            "156/156 [==============================] - 1s 5ms/step - loss: 7.6758e-05 - accuracy: 3.2103e-04 - val_loss: 0.0051 - val_accuracy: 0.0000e+00\n",
            "Epoch 38/50\n",
            "156/156 [==============================] - 1s 6ms/step - loss: 8.4880e-05 - accuracy: 3.2103e-04 - val_loss: 0.0085 - val_accuracy: 0.0000e+00\n",
            "Epoch 39/50\n",
            "156/156 [==============================] - 1s 6ms/step - loss: 7.9009e-05 - accuracy: 3.2103e-04 - val_loss: 0.0064 - val_accuracy: 0.0000e+00\n",
            "Epoch 40/50\n",
            "156/156 [==============================] - 1s 5ms/step - loss: 8.9949e-05 - accuracy: 3.2103e-04 - val_loss: 0.0054 - val_accuracy: 0.0000e+00\n",
            "Epoch 41/50\n",
            "156/156 [==============================] - 1s 5ms/step - loss: 7.8120e-05 - accuracy: 3.2103e-04 - val_loss: 0.0067 - val_accuracy: 0.0000e+00\n",
            "Epoch 42/50\n",
            "156/156 [==============================] - 1s 6ms/step - loss: 7.5481e-05 - accuracy: 3.2103e-04 - val_loss: 0.0054 - val_accuracy: 0.0000e+00\n",
            "Epoch 43/50\n",
            "156/156 [==============================] - 1s 5ms/step - loss: 7.4625e-05 - accuracy: 3.2103e-04 - val_loss: 0.0055 - val_accuracy: 0.0000e+00\n",
            "Epoch 44/50\n",
            "156/156 [==============================] - 1s 5ms/step - loss: 6.5889e-05 - accuracy: 3.2103e-04 - val_loss: 0.0041 - val_accuracy: 0.0000e+00\n",
            "Epoch 45/50\n",
            "156/156 [==============================] - 1s 6ms/step - loss: 8.3386e-05 - accuracy: 3.2103e-04 - val_loss: 0.0059 - val_accuracy: 0.0000e+00\n",
            "Epoch 46/50\n",
            "156/156 [==============================] - 1s 5ms/step - loss: 8.3133e-05 - accuracy: 3.2103e-04 - val_loss: 0.0072 - val_accuracy: 0.0000e+00\n",
            "Epoch 47/50\n",
            "156/156 [==============================] - 1s 5ms/step - loss: 6.9578e-05 - accuracy: 3.2103e-04 - val_loss: 0.0040 - val_accuracy: 0.0000e+00\n",
            "Epoch 48/50\n",
            "156/156 [==============================] - 1s 6ms/step - loss: 6.9853e-05 - accuracy: 3.2103e-04 - val_loss: 0.0056 - val_accuracy: 0.0000e+00\n",
            "Epoch 49/50\n",
            "156/156 [==============================] - 1s 6ms/step - loss: 7.0198e-05 - accuracy: 3.2103e-04 - val_loss: 0.0050 - val_accuracy: 0.0000e+00\n",
            "Epoch 50/50\n",
            "156/156 [==============================] - 1s 5ms/step - loss: 6.2182e-05 - accuracy: 3.2103e-04 - val_loss: 0.0038 - val_accuracy: 0.0000e+00\n"
          ]
        }
      ]
    },
    {
      "cell_type": "code",
      "metadata": {
        "id": "uq7J0L7h0VuZ"
      },
      "source": [
        "train_predict=model.predict(X_train)\n",
        "test_predict=model.predict(X_test)"
      ],
      "execution_count": null,
      "outputs": []
    },
    {
      "cell_type": "code",
      "metadata": {
        "colab": {
          "base_uri": "https://localhost:8080/"
        },
        "id": "bMfPRSeTvrvI",
        "outputId": "f9766c70-ce39-4da0-8df2-3ceb975378f6"
      },
      "source": [
        "from sklearn.metrics import mean_squared_error\n",
        "rmse = np.round(np.sqrt(mean_squared_error(y_test,test_predict)),4)\n",
        "print('RMSE Value: ',rmse)"
      ],
      "execution_count": null,
      "outputs": [
        {
          "output_type": "stream",
          "name": "stdout",
          "text": [
            "RMSE Value:  0.0613\n"
          ]
        }
      ]
    },
    {
      "cell_type": "code",
      "metadata": {
        "id": "HVgS2Gtb06G-"
      },
      "source": [
        "# Transformback to original form\n",
        "train_predict=scaler.inverse_transform(train_predict)\n",
        "test_predict=scaler.inverse_transform(test_predict)"
      ],
      "execution_count": null,
      "outputs": []
    },
    {
      "cell_type": "code",
      "metadata": {
        "id": "fsaeyfcBFmm_"
      },
      "source": [
        "y_train = scaler.inverse_transform(np.array(y_train).reshape(-1,1))\n",
        "y_test = scaler.inverse_transform(np.array(y_test).reshape(-1,1))"
      ],
      "execution_count": null,
      "outputs": []
    },
    {
      "cell_type": "markdown",
      "metadata": {
        "id": "4mxspAfx1ddu"
      },
      "source": [
        "### c. Performance evaluation"
      ]
    },
    {
      "cell_type": "markdown",
      "metadata": {
        "id": "etDs2gIFDzcY"
      },
      "source": [
        "#### Training vs Testing loss"
      ]
    },
    {
      "cell_type": "code",
      "metadata": {
        "colab": {
          "base_uri": "https://localhost:8080/",
          "height": 513
        },
        "id": "iSilS7yMC1hY",
        "outputId": "553815f9-693c-48b8-e41a-3dbe5ac799d7"
      },
      "source": [
        "plt.figure(figsize = (13,8))\n",
        "plt.plot(history.history['loss'])\n",
        "plt.plot(history.history['val_loss'])\n",
        "plt.title('Model loss')\n",
        "plt.ylabel('loss')\n",
        "plt.xlabel('epoch')\n",
        "plt.legend(['train', 'test'], loc='upper left')\n",
        "plt.show()"
      ],
      "execution_count": null,
      "outputs": [
        {
          "output_type": "display_data",
          "data": {
            "image/png": "[encoded data removed]",
            "text/plain": [
              "<Figure size 936x576 with 1 Axes>"
            ]
          },
          "metadata": {
            "needs_background": "light"
          }
        }
      ]
    },
    {
      "cell_type": "markdown",
      "metadata": {
        "id": "m0gi3lFm1Yri"
      },
      "source": [
        "#### Calculating RMSE Score"
      ]
    },
    {
      "cell_type": "code",
      "metadata": {
        "colab": {
          "base_uri": "https://localhost:8080/"
        },
        "id": "dlvJsNEH1X_Q",
        "outputId": "092a6938-d08a-421f-f85e-4111d87aeaef"
      },
      "source": [
        "# Calculating RMSE performance metrics\n",
        "from sklearn.metrics import mean_squared_error\n",
        "rmse = np.round(np.sqrt(mean_squared_error(y_test,test_predict)),2)\n",
        "print('RMSE Value: ',rmse)"
      ],
      "execution_count": null,
      "outputs": [
        {
          "output_type": "stream",
          "name": "stdout",
          "text": [
            "RMSE Value:  2922.84\n"
          ]
        }
      ]
    },
    {
      "cell_type": "code",
      "metadata": {
        "id": "LLWcd444GevH"
      },
      "source": [
        "eval_df = pd.DataFrame(y_test, columns = ['Close'])\n",
        "eval_df['Predicted Close'] = test_predict"
      ],
      "execution_count": null,
      "outputs": []
    },
    {
      "cell_type": "code",
      "metadata": {
        "colab": {
          "base_uri": "https://localhost:8080/",
          "height": 516
        },
        "id": "I5RXfgBjGhIp",
        "outputId": "c87eadc1-bdb0-4a22-d9a3-fbb97ec5be78"
      },
      "source": [
        "eval_df['Close'].plot(figsize=(13,8), label = 'Actual', color = 'cyan')\n",
        "eval_df['Predicted Close'].plot(figsize=(13,8), label = 'Predicted', color = 'orange')\n",
        "plt.title('Actual vs Predictions')\n",
        "plt.legend()"
      ],
      "execution_count": null,
      "outputs": [
        {
          "output_type": "execute_result",
          "data": {
            "text/plain": [
              "<matplotlib.legend.Legend at 0x7f80c46ca490>"
            ]
          },
          "metadata": {},
          "execution_count": 96
        },
        {
          "output_type": "display_data",
          "data": {
            "image/png": "[encoded data removed]",
            "text/plain": [
              "<Figure size 936x576 with 1 Axes>"
            ]
          },
          "metadata": {
            "needs_background": "light"
          }
        }
      ]
    },
    {
      "cell_type": "markdown",
      "metadata": {
        "id": "-EE2wiR1LGn7"
      },
      "source": [
        "# Conclusion\n",
        "1. The study was divided into 2 parts:<br>\n",
        "a. Stock Price prediction without using sentiment analysis.<br>\n",
        "b. Stock Price prediction using sentiment as well as numerical analysis.\n",
        "2. For part a. LSTM model was used because it has the ability to remember long past time-series patterns. For part b. Dense layers were used in Sequential model because the data is no longer a time-series but time-series + sentimental values data. \n",
        "3. The results were somewhat accurate. The LSTM model provided more accurate results.\n",
        "3. Taking into account the sentiment values, the corresponding model offered more reliable results as compared to LSTM model because it was depending on real time sentiments which plays a huge impact in the stock price in real world.\n",
        "4. Although the model provided accurate results, it cannot be used in real time stock price forecasting because better accuracy is required.\n",
        "5. future improvements:  can be achieved through relevant news headlines (headlines based on stocks only) and using hyperparameter tuning of the neural networks."
      ]
    }
  ]
}